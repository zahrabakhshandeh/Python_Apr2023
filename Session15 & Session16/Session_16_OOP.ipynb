{
 "cells": [
  {
   "attachments": {},
   "cell_type": "markdown",
   "metadata": {},
   "source": [
    "### Session_16 (OOP)"
   ]
  },
  {
   "attachments": {},
   "cell_type": "markdown",
   "metadata": {},
   "source": [
    "#### OOP Example"
   ]
  },
  {
   "cell_type": "code",
   "execution_count": 1,
   "metadata": {},
   "outputs": [
    {
     "name": "stdout",
     "output_type": "stream",
     "text": [
      "33\n"
     ]
    }
   ],
   "source": [
    "### Student, Teacher, Employee"
   ]
  },
  {
   "cell_type": "code",
   "execution_count": 65,
   "metadata": {},
   "outputs": [],
   "source": [
    "class Student:\n",
    "    def __init__(self, f_name, l_name, age, scores, rank):\n",
    "        self.first_name = f_name\n",
    "        self.last_name = l_name\n",
    "        self.age = age\n",
    "        self.scores = scores\n",
    "        self.rank = rank\n",
    "    \n",
    "    ### methods\n",
    "    def get_all_info(self):\n",
    "        print(f\"first_name: {self.first_name}\")\n",
    "        print(f\"last_name: {self.last_name}\")\n",
    "        print(f\"age: {self.age}\")\n",
    "        print(f\"scores: {self.scores}\")\n",
    "        print(f\"rank: {self.rank}\")\n",
    "    \n",
    "    def display_avg(self):\n",
    "        avg = sum(self.scores) / len(self.scores)\n",
    "        print(f\"avg: {avg}\")"
   ]
  },
  {
   "cell_type": "code",
   "execution_count": 66,
   "metadata": {},
   "outputs": [
    {
     "name": "stdout",
     "output_type": "stream",
     "text": [
      "avg: 15.25\n",
      "first_name: a\n",
      "last_name: g\n",
      "age: 25\n",
      "scores: [12, 13, 17, 19]\n",
      "rank: 5\n"
     ]
    }
   ],
   "source": [
    "s1 = Student(\"a\", \"g\", 25, [12, 13, 17, 19], 5)\n",
    "s1.first_name\n",
    "s1.display_avg()\n",
    "s1.get_all_info()"
   ]
  },
  {
   "cell_type": "code",
   "execution_count": 67,
   "metadata": {},
   "outputs": [],
   "source": [
    "class Teacher:\n",
    "    def __init__(self, f_name, l_name, age, salary, degree):\n",
    "        self.first_name = f_name\n",
    "        self.last_name = l_name\n",
    "        self.age = age\n",
    "        self.salary = salary\n",
    "        self.degree = degree\n",
    "    \n",
    "    ### methods\n",
    "    def get_all_info(self):\n",
    "        print(f\"first_name: {self.first_name}\")\n",
    "        print(f\"last_name: {self.last_name}\")\n",
    "        print(f\"age: {self.age}\")\n",
    "        print(f\"salary: {self.salary}\")\n",
    "        print(f\"degree: {self.degree}\")\n",
    "    \n",
    "    def display_salary(self):\n",
    "        new_salary = self.salary - (0.02 * self.salary)\n",
    "        print(f\"salary: {new_salary}\")"
   ]
  },
  {
   "cell_type": "code",
   "execution_count": 68,
   "metadata": {},
   "outputs": [
    {
     "name": "stdout",
     "output_type": "stream",
     "text": [
      "salary: 1960.0\n"
     ]
    }
   ],
   "source": [
    "t1 = Teacher(\"t1\", \"g1\", 38, 2000, \"d1\")\n",
    "t1.first_name\n",
    "#t1.get_all_info()\n",
    "t1.display_salary()"
   ]
  },
  {
   "cell_type": "code",
   "execution_count": 69,
   "metadata": {},
   "outputs": [
    {
     "name": "stdout",
     "output_type": "stream",
     "text": [
      "salary: 1960.0\n"
     ]
    }
   ],
   "source": [
    "t1.display_salary()"
   ]
  },
  {
   "attachments": {},
   "cell_type": "markdown",
   "metadata": {},
   "source": [
    "#### Inheritance"
   ]
  },
  {
   "cell_type": "code",
   "execution_count": 70,
   "metadata": {},
   "outputs": [],
   "source": [
    "class Person:\n",
    "    def __init__(self, f_name, l_name, age):\n",
    "        self.first_name = f_name\n",
    "        self.last_name = l_name\n",
    "        self.age = age\n",
    "    \n",
    "    ## methods\n",
    "    def personal_info(self):\n",
    "        print(f\"first_name: {self.first_name}\")\n",
    "        print(f\"last_name: {self.last_name}\")\n",
    "        print(f\"age: {self.age}\")"
   ]
  },
  {
   "cell_type": "code",
   "execution_count": 71,
   "metadata": {},
   "outputs": [
    {
     "name": "stdout",
     "output_type": "stream",
     "text": [
      "first_name: a\n",
      "last_name: b\n",
      "age: 18\n"
     ]
    }
   ],
   "source": [
    "p1 = Person(\"a\", \"b\", 18)\n",
    "p1.personal_info()"
   ]
  },
  {
   "cell_type": "code",
   "execution_count": 72,
   "metadata": {},
   "outputs": [],
   "source": [
    "class Student(Person):\n",
    "    def __init__(self, f_name, l_name, age, scores, rank):\n",
    "        self.scores = scores\n",
    "        self.rank = rank\n",
    "        Person.__init__(self, f_name, l_name, age)\n",
    "    def all_info(self):\n",
    "        self.personal_info()\n",
    "        print(f\"scores: {self.scores}\")\n",
    "        print(f\"rank: {self.rank}\")"
   ]
  },
  {
   "cell_type": "code",
   "execution_count": 73,
   "metadata": {},
   "outputs": [
    {
     "name": "stdout",
     "output_type": "stream",
     "text": [
      "first_name: a\n",
      "last_name: g\n",
      "age: 17\n",
      "scores: [2, 15, 17]\n",
      "rank: 10\n"
     ]
    }
   ],
   "source": [
    "s1 = Student(\"a\", \"g\", 17, [2, 15, 17], 10)\n",
    "#s1.all_info()\n",
    "s1.all_info()"
   ]
  },
  {
   "cell_type": "code",
   "execution_count": 74,
   "metadata": {},
   "outputs": [],
   "source": [
    "class Teacher(Person):\n",
    "    def __init__(self, f_name, l_name, age, salary, degree):\n",
    "        self.salary = salary\n",
    "        self.degree = degree\n",
    "        Person.__init__(self, f_name, l_name, age)\n",
    "    \n",
    "    ### methods\n",
    "    def get_all_info(self):\n",
    "        self.personal_info()\n",
    "        print(f\"salary: {self.salary}\")\n",
    "        print(f\"degree: {self.degree}\")\n",
    "    \n",
    "    def display_salary(self):\n",
    "        new_salary = self.salary - (0.02 * self.salary)\n",
    "        print(f\"salary: {new_salary}\")"
   ]
  },
  {
   "cell_type": "code",
   "execution_count": 77,
   "metadata": {},
   "outputs": [
    {
     "name": "stdout",
     "output_type": "stream",
     "text": [
      "first_name: a\n",
      "last_name: l1\n",
      "age: 16\n"
     ]
    }
   ],
   "source": [
    "t1 = Teacher(\"a\", \"l1\", 16, 1000, \"d1\")\n",
    "t1.personal_info()"
   ]
  },
  {
   "attachments": {},
   "cell_type": "markdown",
   "metadata": {},
   "source": [
    "### Encapsulation"
   ]
  },
  {
   "cell_type": "code",
   "execution_count": 105,
   "metadata": {},
   "outputs": [],
   "source": [
    "class Person:\n",
    "    def __init__(self, f_name, l_name):\n",
    "        self.first_name = f_name\n",
    "        self.last_name = l_name\n",
    "        self.__age = 28\n",
    "    def get_age(self):\n",
    "        print(self.__age)"
   ]
  },
  {
   "cell_type": "code",
   "execution_count": 106,
   "metadata": {},
   "outputs": [
    {
     "name": "stdout",
     "output_type": "stream",
     "text": [
      "28\n"
     ]
    }
   ],
   "source": [
    "p1 = Person(\"f1\", \"l6\")\n",
    "p1.get_age()"
   ]
  },
  {
   "cell_type": "code",
   "execution_count": 115,
   "metadata": {},
   "outputs": [],
   "source": [
    "class Student(Person):\n",
    "    def __init__(self, f_name, l_name, scores, rank):\n",
    "        self.scores = scores\n",
    "        self.rank = rank\n",
    "        Person.__init__(self, f_name, l_name)\n",
    "        #self.age = 18\n",
    "        self.__age = 34\n",
    "    "
   ]
  },
  {
   "cell_type": "code",
   "execution_count": 116,
   "metadata": {},
   "outputs": [
    {
     "data": {
      "text/plain": [
       "28"
      ]
     },
     "execution_count": 116,
     "metadata": {},
     "output_type": "execute_result"
    }
   ],
   "source": [
    "s1 = Student(\"f2\", \"l2\", [17], 2)\n",
    "s1._Person__age"
   ]
  },
  {
   "cell_type": "code",
   "execution_count": 98,
   "metadata": {},
   "outputs": [
    {
     "data": {
      "text/plain": [
       "{'scores': [17], 'rank': 2, 'first_name': 'f2', 'last_name': 'l2', 'age': 18}"
      ]
     },
     "execution_count": 98,
     "metadata": {},
     "output_type": "execute_result"
    }
   ],
   "source": [
    "s1 = Student(\"f2\", \"l2\", [17], 2)\n",
    "s1.__dict__"
   ]
  },
  {
   "attachments": {},
   "cell_type": "markdown",
   "metadata": {},
   "source": [
    "### Polymorphism"
   ]
  },
  {
   "cell_type": "code",
   "execution_count": 117,
   "metadata": {},
   "outputs": [],
   "source": [
    "class Person:\n",
    "    def __init__(self, f_name, l_name, age):\n",
    "        self.first_name = f_name\n",
    "        self.last_name = l_name\n",
    "        self.age = age\n",
    "    \n",
    "    ## methods\n",
    "    def personal_info(self):\n",
    "        print(f\"first_name: {self.first_name}\")\n",
    "        print(f\"last_name: {self.last_name}\")\n",
    "        print(f\"age: {self.age}\")"
   ]
  },
  {
   "cell_type": "code",
   "execution_count": 119,
   "metadata": {},
   "outputs": [],
   "source": [
    "class Teacher(Person):\n",
    "    def __init__(self, f_name, l_name, age, salary, degree):\n",
    "        self.salary = salary\n",
    "        self.degree = degree\n",
    "        Person.__init__(self, f_name, l_name, age)\n",
    "    \n",
    "    def get_salary(self):\n",
    "        new_salary = self.salary - (0.02 * self.salary)\n",
    "        print(f\"Teacher's salary: {new_salary}\")\n",
    "    "
   ]
  },
  {
   "cell_type": "code",
   "execution_count": 129,
   "metadata": {},
   "outputs": [],
   "source": [
    "class Employee(Person):\n",
    "    def __init__(self, f_name, l_name, age, salary):\n",
    "        self.salary = salary\n",
    "        Person.__init__(self, f_name, l_name, age)\n",
    "        \n",
    "    def get_salary(self):\n",
    "        if self.salary <= 5000:\n",
    "            new_salary = self.salary - (0.02 * self.salary)\n",
    "            print(f\"Employee's salary: {new_salary}\")\n",
    "        else:\n",
    "            new_salary = self.salary - (0.05 * self.salary)\n",
    "            print(f\"Employee's salary: {new_salary}\")"
   ]
  },
  {
   "cell_type": "code",
   "execution_count": 134,
   "metadata": {},
   "outputs": [
    {
     "name": "stdout",
     "output_type": "stream",
     "text": [
      "Teacher's salary: 7840.0\n"
     ]
    }
   ],
   "source": [
    "t1 = Teacher(\"a\", \"b\", 29, 8000, \"d1\")\n",
    "t1.get_salary()"
   ]
  },
  {
   "cell_type": "code",
   "execution_count": 133,
   "metadata": {},
   "outputs": [
    {
     "name": "stdout",
     "output_type": "stream",
     "text": [
      "Employee's salary: 7600.0\n"
     ]
    }
   ],
   "source": [
    "e1 = Employee(\"e1\", \"l1\", 30, 8000)\n",
    "e1.get_salary()"
   ]
  },
  {
   "attachments": {},
   "cell_type": "markdown",
   "metadata": {},
   "source": [
    "### Abstraction"
   ]
  },
  {
   "cell_type": "code",
   "execution_count": 135,
   "metadata": {},
   "outputs": [],
   "source": [
    "from abc import ABC, abstractmethod\n",
    "class Person(ABC):\n",
    "    \n",
    "    @abstractmethod\n",
    "    def get_salary(self):\n",
    "        pass"
   ]
  },
  {
   "cell_type": "code",
   "execution_count": 141,
   "metadata": {},
   "outputs": [],
   "source": [
    "class Teacher1(Person):\n",
    "    def f1(self):\n",
    "        print(\"python\")"
   ]
  },
  {
   "cell_type": "code",
   "execution_count": 142,
   "metadata": {},
   "outputs": [
    {
     "ename": "TypeError",
     "evalue": "Can't instantiate abstract class Teacher1 with abstract method get_salary",
     "output_type": "error",
     "traceback": [
      "\u001b[0;31m---------------------------------------------------------------------------\u001b[0m",
      "\u001b[0;31mTypeError\u001b[0m                                 Traceback (most recent call last)",
      "Cell \u001b[0;32mIn[142], line 1\u001b[0m\n\u001b[0;32m----> 1\u001b[0m t1 \u001b[39m=\u001b[39m Teacher1()\n\u001b[1;32m      2\u001b[0m t1\u001b[39m.\u001b[39mget_salary()\n",
      "\u001b[0;31mTypeError\u001b[0m: Can't instantiate abstract class Teacher1 with abstract method get_salary"
     ]
    }
   ],
   "source": [
    "t1 = Teacher1()\n",
    "t1.get_salary()"
   ]
  }
 ],
 "metadata": {
  "kernelspec": {
   "display_name": "Python 3",
   "language": "python",
   "name": "python3"
  },
  "language_info": {
   "codemirror_mode": {
    "name": "ipython",
    "version": 3
   },
   "file_extension": ".py",
   "mimetype": "text/x-python",
   "name": "python",
   "nbconvert_exporter": "python",
   "pygments_lexer": "ipython3",
   "version": "3.11.2"
  },
  "orig_nbformat": 4
 },
 "nbformat": 4,
 "nbformat_minor": 2
}
