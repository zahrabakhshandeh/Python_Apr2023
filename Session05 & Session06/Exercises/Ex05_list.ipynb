{
 "cells": [
  {
   "cell_type": "markdown",
   "id": "f593374a",
   "metadata": {},
   "source": [
    "# Hands-On Prerequisite Python in AI\n",
    "## Exersise 05"
   ]
  },
  {
   "cell_type": "markdown",
   "id": "426143ca",
   "metadata": {},
   "source": [
    "## Question01"
   ]
  },
  {
   "cell_type": "markdown",
   "id": "1c99973f",
   "metadata": {},
   "source": [
    "#### Based on the lists below, answer the questions\n",
    "#### my_list = [2, 15, 0,”python”, 4.6,”java”,90, 10]"
   ]
  },
  {
   "cell_type": "code",
   "execution_count": 1,
   "id": "622ee368",
   "metadata": {},
   "outputs": [],
   "source": [
    "my_list = [2, 15, 0,\"python\", 4.6,\"java\",90, 10]"
   ]
  },
  {
   "cell_type": "markdown",
   "id": "a8eee53a",
   "metadata": {},
   "source": [
    "##### 1. Print first and last items of the list"
   ]
  },
  {
   "cell_type": "code",
   "execution_count": 2,
   "id": "0634c559",
   "metadata": {},
   "outputs": [
    {
     "data": {
      "text/plain": [
       "2"
      ]
     },
     "execution_count": 2,
     "metadata": {},
     "output_type": "execute_result"
    }
   ],
   "source": [
    "# first\n",
    "my_list[0]"
   ]
  },
  {
   "cell_type": "code",
   "execution_count": 3,
   "id": "8a954e31",
   "metadata": {},
   "outputs": [
    {
     "data": {
      "text/plain": [
       "10"
      ]
     },
     "execution_count": 3,
     "metadata": {},
     "output_type": "execute_result"
    }
   ],
   "source": [
    "# last\n",
    "my_list[-1]"
   ]
  },
  {
   "cell_type": "markdown",
   "id": "9f982fd7",
   "metadata": {},
   "source": [
    "#### 2.Remove first and last items of the list"
   ]
  },
  {
   "cell_type": "code",
   "execution_count": 4,
   "id": "6616f106",
   "metadata": {},
   "outputs": [
    {
     "data": {
      "text/plain": [
       "2"
      ]
     },
     "execution_count": 4,
     "metadata": {},
     "output_type": "execute_result"
    }
   ],
   "source": [
    "# remove first itemt\n",
    "my_list.pop(0)"
   ]
  },
  {
   "cell_type": "code",
   "execution_count": 5,
   "id": "f07da195",
   "metadata": {},
   "outputs": [
    {
     "data": {
      "text/plain": [
       "[15, 0, 'python', 4.6, 'java', 90, 10]"
      ]
     },
     "execution_count": 5,
     "metadata": {},
     "output_type": "execute_result"
    }
   ],
   "source": [
    "my_list"
   ]
  },
  {
   "cell_type": "code",
   "execution_count": 6,
   "id": "eb90cf82",
   "metadata": {},
   "outputs": [
    {
     "data": {
      "text/plain": [
       "10"
      ]
     },
     "execution_count": 6,
     "metadata": {},
     "output_type": "execute_result"
    }
   ],
   "source": [
    "# remove last itemt\n",
    "my_list.pop()"
   ]
  },
  {
   "cell_type": "code",
   "execution_count": 7,
   "id": "35a42f88",
   "metadata": {},
   "outputs": [
    {
     "data": {
      "text/plain": [
       "[15, 0, 'python', 4.6, 'java', 90]"
      ]
     },
     "execution_count": 7,
     "metadata": {},
     "output_type": "execute_result"
    }
   ],
   "source": [
    "my_list"
   ]
  },
  {
   "cell_type": "markdown",
   "id": "05cabc67",
   "metadata": {},
   "source": [
    "#### 3.Remove 90 and 300 from the list"
   ]
  },
  {
   "cell_type": "code",
   "execution_count": 8,
   "id": "60b036a0",
   "metadata": {},
   "outputs": [],
   "source": [
    "my_list.remove(90)"
   ]
  },
  {
   "cell_type": "code",
   "execution_count": 9,
   "id": "25c27c11",
   "metadata": {},
   "outputs": [
    {
     "data": {
      "text/plain": [
       "[15, 0, 'python', 4.6, 'java']"
      ]
     },
     "execution_count": 9,
     "metadata": {},
     "output_type": "execute_result"
    }
   ],
   "source": [
    "my_list"
   ]
  },
  {
   "cell_type": "code",
   "execution_count": 11,
   "id": "d7663760",
   "metadata": {},
   "outputs": [
    {
     "name": "stdout",
     "output_type": "stream",
     "text": [
      "not found\n"
     ]
    }
   ],
   "source": [
    "if 300 in my_list:\n",
    "    my_list.remove(300)\n",
    "else:\n",
    "    print(\"not found\")"
   ]
  },
  {
   "cell_type": "code",
   "execution_count": 12,
   "id": "c894e7ef",
   "metadata": {},
   "outputs": [
    {
     "data": {
      "text/plain": [
       "[15, 0, 'python', 4.6, 'java']"
      ]
     },
     "execution_count": 12,
     "metadata": {},
     "output_type": "execute_result"
    }
   ],
   "source": [
    "my_list"
   ]
  },
  {
   "cell_type": "markdown",
   "id": "233ad0b8",
   "metadata": {},
   "source": [
    "#### 4.Add 5 between 15 and 0"
   ]
  },
  {
   "cell_type": "code",
   "execution_count": 13,
   "id": "8184809b",
   "metadata": {},
   "outputs": [],
   "source": [
    "my_list.insert(1, 5)"
   ]
  },
  {
   "cell_type": "code",
   "execution_count": 14,
   "id": "118ca832",
   "metadata": {},
   "outputs": [
    {
     "data": {
      "text/plain": [
       "[15, 5, 0, 'python', 4.6, 'java']"
      ]
     },
     "execution_count": 14,
     "metadata": {},
     "output_type": "execute_result"
    }
   ],
   "source": [
    "my_list"
   ]
  },
  {
   "cell_type": "markdown",
   "id": "6e09e222",
   "metadata": {},
   "source": [
    "#### 5.Edit “Js” with “python”"
   ]
  },
  {
   "cell_type": "code",
   "execution_count": 16,
   "id": "d3582681",
   "metadata": {},
   "outputs": [],
   "source": [
    "my_list[3] = \"Js\""
   ]
  },
  {
   "cell_type": "code",
   "execution_count": 17,
   "id": "2e830d3b",
   "metadata": {},
   "outputs": [
    {
     "data": {
      "text/plain": [
       "[15, 5, 0, 'Js', 4.6, 'java']"
      ]
     },
     "execution_count": 17,
     "metadata": {},
     "output_type": "execute_result"
    }
   ],
   "source": [
    "my_list"
   ]
  },
  {
   "cell_type": "code",
   "execution_count": 18,
   "id": "b0f72380",
   "metadata": {},
   "outputs": [],
   "source": [
    "i = my_list.index(\"Js\")\n",
    "my_list[i] = \"python\""
   ]
  },
  {
   "cell_type": "code",
   "execution_count": 19,
   "id": "4e72db8a",
   "metadata": {},
   "outputs": [
    {
     "data": {
      "text/plain": [
       "[15, 5, 0, 'python', 4.6, 'java']"
      ]
     },
     "execution_count": 19,
     "metadata": {},
     "output_type": "execute_result"
    }
   ],
   "source": [
    "my_list"
   ]
  },
  {
   "cell_type": "markdown",
   "id": "9644993c",
   "metadata": {},
   "source": [
    "#### 6.Add 50 at the end of the list"
   ]
  },
  {
   "cell_type": "code",
   "execution_count": 20,
   "id": "3341f258",
   "metadata": {},
   "outputs": [
    {
     "data": {
      "text/plain": [
       "[15, 5, 0, 'python', 4.6, 'java', 50]"
      ]
     },
     "execution_count": 20,
     "metadata": {},
     "output_type": "execute_result"
    }
   ],
   "source": [
    "my_list.append(50)\n",
    "my_list"
   ]
  },
  {
   "cell_type": "markdown",
   "id": "e1f762f6",
   "metadata": {},
   "source": [
    "#### 7.Search for 0 in the list and if it is in the list print \"yes\" else print \"no“"
   ]
  },
  {
   "cell_type": "code",
   "execution_count": 23,
   "id": "1e63427f",
   "metadata": {},
   "outputs": [
    {
     "name": "stdout",
     "output_type": "stream",
     "text": [
      "yes\n"
     ]
    }
   ],
   "source": [
    "num = 0\n",
    "# in, not in\n",
    "if num in my_list:\n",
    "    print(\"yes\")\n",
    "else:\n",
    "    print(\"no\")"
   ]
  },
  {
   "cell_type": "markdown",
   "id": "1f6cb0f7",
   "metadata": {},
   "source": [
    "## Question02"
   ]
  },
  {
   "cell_type": "markdown",
   "id": "be924062",
   "metadata": {},
   "source": [
    "#### Get a string in one of the following forms from the input and display the expected result.\n",
    "\n",
    "### input: 3 + 2 = ?  ====> output: 3 + 2 = 5"
   ]
  },
  {
   "cell_type": "code",
   "execution_count": 30,
   "id": "f8554e91",
   "metadata": {},
   "outputs": [
    {
     "name": "stdout",
     "output_type": "stream",
     "text": [
      "Please enter your word: 3 . 2 = ?\n",
      ".: not found\n"
     ]
    }
   ],
   "source": [
    "# +, -, *, /\n",
    "word = input(\"Please enter your word: \")\n",
    "words = word.split()\n",
    "num1 = int(words[0])\n",
    "num2 = int(words[2])\n",
    "if words[1] in [\"+\", \"-\", \"/\", \"*\"]:\n",
    "    if words[1] == \"+\":\n",
    "        res1 = num1 + num2\n",
    "    elif words[1] == \"-\":\n",
    "        res1 = num1 - num2\n",
    "    elif words[1] == \"/\":\n",
    "        if num2 == 0:\n",
    "            res1 = \"Error\"\n",
    "        else:\n",
    "            res1 = num1 / num2\n",
    "    else:\n",
    "        res1 = num1 * num2\n",
    "    print(f\"{num1} {words[1]} {num2} = {res1}\")\n",
    "else:\n",
    "    print(f\"{words[1]}: not found\")\n",
    "\n",
    "    "
   ]
  },
  {
   "cell_type": "markdown",
   "id": "9c5a55f6",
   "metadata": {},
   "source": [
    "## Question03"
   ]
  },
  {
   "cell_type": "markdown",
   "id": "7dfec28a",
   "metadata": {},
   "source": [
    "#### Based on the two lists below, make a third list that includes the data that is in the first list and not in the second list.\n",
    "\n",
    "### List1 = [ 12, 2, 34, 10, 4, 18, 10]\n",
    "### List2 = [12, 100, 10, 4, 5, 50]"
   ]
  },
  {
   "cell_type": "code",
   "execution_count": 31,
   "id": "95db3c77",
   "metadata": {},
   "outputs": [],
   "source": [
    "list1 = [ 12, 2, 34, 10, 4, 18, 10]\n",
    "list2 = [12, 100, 10, 4, 5, 50]"
   ]
  },
  {
   "cell_type": "code",
   "execution_count": 32,
   "id": "1532587e",
   "metadata": {},
   "outputs": [
    {
     "data": {
      "text/plain": [
       "[2, 34, 18]"
      ]
     },
     "execution_count": 32,
     "metadata": {},
     "output_type": "execute_result"
    }
   ],
   "source": [
    "list3 = []\n",
    "for i in list1:\n",
    "    if i not in list2:\n",
    "        list3.append(i)\n",
    "list3"
   ]
  },
  {
   "cell_type": "code",
   "execution_count": 33,
   "id": "97cdcc32",
   "metadata": {},
   "outputs": [
    {
     "data": {
      "text/plain": [
       "[2, 34, 18]"
      ]
     },
     "execution_count": 33,
     "metadata": {},
     "output_type": "execute_result"
    }
   ],
   "source": [
    "list4 = [i for i in list1 if i not in list2]\n",
    "list4"
   ]
  },
  {
   "cell_type": "markdown",
   "id": "5c105208",
   "metadata": {},
   "source": [
    "## Question04"
   ]
  },
  {
   "cell_type": "markdown",
   "id": "d94a4fb3",
   "metadata": {},
   "source": [
    "#### Display the minimum, maximum, sum, average, length, and median for the list below.\n",
    "#### Numbers = [10, 20, 20, 12, 30, 45, 2.4, 1.5]"
   ]
  },
  {
   "cell_type": "code",
   "execution_count": 50,
   "id": "c7f604d4",
   "metadata": {},
   "outputs": [],
   "source": [
    "numbers = [10, 20, 20, 12, 30, 45, 2.4, 1.5]"
   ]
  },
  {
   "cell_type": "code",
   "execution_count": 51,
   "id": "7194756c",
   "metadata": {},
   "outputs": [
    {
     "name": "stdout",
     "output_type": "stream",
     "text": [
      "min: 1.5\n",
      " max: 45\n",
      " sum: 140.9\n",
      "length: 8\n",
      " avg:17.6125\n"
     ]
    }
   ],
   "source": [
    "max1 = numbers[0]\n",
    "min1 = numbers[0]\n",
    "sum1 = 0\n",
    "for i in numbers:\n",
    "    sum1 += i\n",
    "    if i > max1:\n",
    "        max1 = i\n",
    "    elif i < min1:\n",
    "        min1 = i\n",
    "l = len(numbers)\n",
    "avg = sum1 / l\n",
    "print(f\"min: {min1}\\n max: {max1}\\n sum: {sum1}\\nlength: {l}\\n avg:{avg}\")"
   ]
  },
  {
   "cell_type": "code",
   "execution_count": 52,
   "id": "8df41d03",
   "metadata": {},
   "outputs": [],
   "source": [
    "numbers.sort()"
   ]
  },
  {
   "cell_type": "code",
   "execution_count": 53,
   "id": "161ec05e",
   "metadata": {},
   "outputs": [
    {
     "data": {
      "text/plain": [
       "[1.5, 2.4, 10, 12, 20, 20, 30, 45]"
      ]
     },
     "execution_count": 53,
     "metadata": {},
     "output_type": "execute_result"
    }
   ],
   "source": [
    "numbers"
   ]
  },
  {
   "cell_type": "code",
   "execution_count": 54,
   "id": "94a3a0f3",
   "metadata": {},
   "outputs": [],
   "source": [
    "# length of list ===> 8 ===> 3, 4\n",
    "# [1.5, 2.4, 10, 12, 20, 20, 30]===> 7 ===> 3, 7/ 2 ===> 3...., 3"
   ]
  },
  {
   "cell_type": "code",
   "execution_count": 55,
   "id": "e250c1f0",
   "metadata": {},
   "outputs": [
    {
     "name": "stdout",
     "output_type": "stream",
     "text": [
      "16.0\n"
     ]
    }
   ],
   "source": [
    "l = len(numbers)\n",
    "if l % 2 == 0:\n",
    "    l = l // 2\n",
    "    middl = numbers[l] + numbers[l-1]\n",
    "    middl = middl / 2\n",
    "else:\n",
    "    l = l // 2\n",
    "    middl = numbers[l]\n",
    "print(middl)"
   ]
  },
  {
   "cell_type": "code",
   "execution_count": null,
   "id": "6f47adcd",
   "metadata": {},
   "outputs": [],
   "source": []
  }
 ],
 "metadata": {
  "kernelspec": {
   "display_name": "Python 3 (ipykernel)",
   "language": "python",
   "name": "python3"
  },
  "language_info": {
   "codemirror_mode": {
    "name": "ipython",
    "version": 3
   },
   "file_extension": ".py",
   "mimetype": "text/x-python",
   "name": "python",
   "nbconvert_exporter": "python",
   "pygments_lexer": "ipython3",
   "version": "3.9.13"
  }
 },
 "nbformat": 4,
 "nbformat_minor": 5
}
