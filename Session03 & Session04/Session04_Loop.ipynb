{
 "cells": [
  {
   "attachments": {},
   "cell_type": "markdown",
   "metadata": {},
   "source": [
    "<div style=\"color: ligthblue;text-align:center;\"> \n",
    "    <h3>Session 04 (Loop)</h3>\n",
    "    <hr>\n",
    "</div>\n"
   ]
  },
  {
   "cell_type": "code",
   "execution_count": 5,
   "metadata": {},
   "outputs": [
    {
     "name": "stdout",
     "output_type": "stream",
     "text": [
      "10\n",
      "10\n",
      "10\n",
      "10\n",
      "10\n",
      "10\n",
      "10\n",
      "10\n",
      "10\n",
      "10\n"
     ]
    }
   ],
   "source": [
    "for i in range(10):\n",
    "    print(10)"
   ]
  },
  {
   "cell_type": "code",
   "execution_count": 6,
   "metadata": {},
   "outputs": [
    {
     "name": "stdout",
     "output_type": "stream",
     "text": [
      "0\n",
      "1\n",
      "2\n",
      "3\n",
      "4\n",
      "5\n",
      "6\n",
      "7\n",
      "8\n",
      "9\n"
     ]
    }
   ],
   "source": [
    "for i in range(10):\n",
    "    print(i)"
   ]
  },
  {
   "cell_type": "code",
   "execution_count": 8,
   "metadata": {},
   "outputs": [
    {
     "name": "stdout",
     "output_type": "stream",
     "text": [
      "even\n",
      "odd\n",
      "even\n",
      "odd\n",
      "odd\n"
     ]
    }
   ],
   "source": [
    "for i in range(5):\n",
    "    number = int(input(\"your number: \"))\n",
    "    if number % 2 == 0:\n",
    "        print(\"even\")\n",
    "    else:\n",
    "        print(\"odd\")"
   ]
  },
  {
   "cell_type": "code",
   "execution_count": 10,
   "metadata": {},
   "outputs": [
    {
     "name": "stdout",
     "output_type": "stream",
     "text": [
      "0\n",
      "2\n",
      "4\n"
     ]
    }
   ],
   "source": [
    "# 6 ===> 0, 2, 4\n",
    "number = int(input(\"number: \"))\n",
    "for i in range(number):\n",
    "    if i % 2 == 0:\n",
    "        print(i)"
   ]
  },
  {
   "cell_type": "code",
   "execution_count": 35,
   "metadata": {},
   "outputs": [
    {
     "name": "stdout",
     "output_type": "stream",
     "text": [
      "0, 2, 4, 6, 8, "
     ]
    }
   ],
   "source": [
    "number = int(input(\"number: \"))\n",
    "for i in range(0, number, 2):# i = 0,i = 0 + 2 = 2, i = 2 + 2 = 4\n",
    "    print(i, end=\", \")"
   ]
  },
  {
   "cell_type": "code",
   "execution_count": 13,
   "metadata": {},
   "outputs": [
    {
     "name": "stdout",
     "output_type": "stream",
     "text": [
      "10\n",
      "7\n"
     ]
    }
   ],
   "source": [
    "# range(start, stop, step)\n",
    "# start ===> def: 0\n",
    "# stop ===> xxxxxxxxx\n",
    "# step ===> def: 1\n",
    "for i in range(10, 4, -3): # i = 3, 3 + 5 = 8, 8 + 5 = 13\n",
    "    print(i)"
   ]
  },
  {
   "cell_type": "code",
   "execution_count": 14,
   "metadata": {},
   "outputs": [
    {
     "name": "stdout",
     "output_type": "stream",
     "text": [
      "5 * 1 = 5\n",
      "5 * 2 = 10\n",
      "5 * 3 = 15\n",
      "5 * 4 = 20\n",
      "5 * 5 = 25\n",
      "5 * 6 = 30\n",
      "5 * 7 = 35\n",
      "5 * 8 = 40\n",
      "5 * 9 = 45\n"
     ]
    }
   ],
   "source": [
    "# number = 5\n",
    "# 5 * 1 = 5\n",
    "# 5 * 2 = 10\n",
    "#.....\n",
    "# 5 * 10 = 50\n",
    "\n",
    "number = int(input(\"number: \"))\n",
    "for i in range(1, 11):\n",
    "    multi = number * i\n",
    "    print(f\"{number} * {i} = {multi}\")"
   ]
  },
  {
   "cell_type": "code",
   "execution_count": 20,
   "metadata": {},
   "outputs": [
    {
     "name": "stdout",
     "output_type": "stream",
     "text": [
      "1\n",
      "2\n"
     ]
    }
   ],
   "source": [
    "str1 = \"Pythtn\"\n",
    "#       012345, str1[0], str1[1]\n",
    "# len(str1) ===> 6\n",
    "c = 0\n",
    "for i in range(len(str1)): # 6\n",
    "    if str1[i] == \"t\":\n",
    "        # c = c + 1 \n",
    "        c += 1\n",
    "        print(c)"
   ]
  },
  {
   "cell_type": "code",
   "execution_count": null,
   "metadata": {},
   "outputs": [],
   "source": [
    "c = c / 2 # c /= 2\n",
    "c = c * 2 # c *= 2\n",
    "c = c - 2 # c -= 2\n",
    "c = 2 * c # c *= 2"
   ]
  },
  {
   "cell_type": "code",
   "execution_count": 22,
   "metadata": {},
   "outputs": [
    {
     "name": "stdout",
     "output_type": "stream",
     "text": [
      "1\n"
     ]
    }
   ],
   "source": [
    "str1 = \"Python\"\n",
    "c = 0\n",
    "for i in str1:\n",
    "    if i == \"t\":\n",
    "        c += 1\n",
    "print(c)"
   ]
  },
  {
   "cell_type": "code",
   "execution_count": 31,
   "metadata": {},
   "outputs": [
    {
     "name": "stdout",
     "output_type": "stream",
     "text": [
      "9.666666666666666\n"
     ]
    }
   ],
   "source": [
    "# 10 ==> avg\n",
    "# sum, avg\n",
    "num = int(input(\"number of scores: \"))\n",
    "total_score = 0\n",
    "for i in range(num):\n",
    "    score = float(input(f\"score_{i+1}:\")) # 3\n",
    "    total_score += score\n",
    "avg = total_score / num\n",
    "print(avg)"
   ]
  },
  {
   "cell_type": "code",
   "execution_count": 36,
   "metadata": {},
   "outputs": [
    {
     "name": "stdout",
     "output_type": "stream",
     "text": [
      "16\n"
     ]
    }
   ],
   "source": [
    "# min, max\n",
    "# 12, 34, 10, 100\n",
    "# max_num = 12\n",
    "# max_num < 34 ====> max_num = 34\n",
    "# max_num < 10 ===> \n",
    "# max_num < 100 ===> max_num = 100\n",
    "\n",
    "num = int(input(\"number: \")) # 4\n",
    "max_num = int(input(\"number_1: \"))\n",
    "for i in range(num - 1):\n",
    "    new_num = int(input(f\"number_{i+1}: \"))\n",
    "    if max_num < new_num:\n",
    "        max_num = new_num\n",
    "print(max_num)\n"
   ]
  },
  {
   "cell_type": "code",
   "execution_count": 37,
   "metadata": {},
   "outputs": [
    {
     "name": "stdout",
     "output_type": "stream",
     "text": [
      "2\n"
     ]
    }
   ],
   "source": [
    "num = int(input(\"number: \")) # 4\n",
    "min_num = int(input(\"number_1: \"))\n",
    "for i in range(num - 1):\n",
    "    new_num = int(input(f\"number_{i+1}: \"))\n",
    "    if min_num > new_num:\n",
    "        min_num = new_num\n",
    "print(min_num)"
   ]
  },
  {
   "cell_type": "code",
   "execution_count": 39,
   "metadata": {},
   "outputs": [
    {
     "name": "stdout",
     "output_type": "stream",
     "text": [
      "0\n",
      "1\n",
      "2\n",
      "3\n",
      "4\n"
     ]
    }
   ],
   "source": [
    "# break\n",
    "for i in range(10):\n",
    "    if i == 5:\n",
    "        break\n",
    "    print(i)"
   ]
  },
  {
   "cell_type": "code",
   "execution_count": 49,
   "metadata": {},
   "outputs": [
    {
     "name": "stdout",
     "output_type": "stream",
     "text": [
      "isn't prime\n"
     ]
    }
   ],
   "source": [
    "# number = 6 ===> 2, 3, 4, 5,,,,,\n",
    "# 6 % 2 == 0 ===> \n",
    "number = int(input(\"number: \")) # 100000\n",
    "#is_prime = True\n",
    "if number > 10:\n",
    "    print(2)\n",
    "for i in range(2, number): # i = 2, 3, 4, 5 \n",
    "    if number % i == 0: # i = 2, 6 % 2 == 0\n",
    "        print(\"isn't prime\") # ...\n",
    "        #is_prime = False\n",
    "        break # ...\n",
    "else:\n",
    "    print(\"prime\")"
   ]
  },
  {
   "cell_type": "code",
   "execution_count": null,
   "metadata": {},
   "outputs": [],
   "source": [
    "num1 = 10\n",
    "num2 = 20\n",
    "if num1 > num2:\n",
    "    print(num1)\n",
    "else:\n",
    "    print(num1)"
   ]
  },
  {
   "cell_type": "code",
   "execution_count": 50,
   "metadata": {},
   "outputs": [
    {
     "ename": "ZeroDivisionError",
     "evalue": "division by zero",
     "output_type": "error",
     "traceback": [
      "\u001b[0;31m---------------------------------------------------------------------------\u001b[0m",
      "\u001b[0;31mZeroDivisionError\u001b[0m                         Traceback (most recent call last)",
      "Cell \u001b[0;32mIn[50], line 1\u001b[0m\n\u001b[0;32m----> 1\u001b[0m \u001b[39m5\u001b[39;49m \u001b[39m/\u001b[39;49m \u001b[39m0\u001b[39;49m\n",
      "\u001b[0;31mZeroDivisionError\u001b[0m: division by zero"
     ]
    }
   ],
   "source": [
    "5 / 0"
   ]
  },
  {
   "cell_type": "code",
   "execution_count": null,
   "metadata": {},
   "outputs": [],
   "source": []
  }
 ],
 "metadata": {
  "kernelspec": {
   "display_name": "Python 3",
   "language": "python",
   "name": "python3"
  },
  "language_info": {
   "codemirror_mode": {
    "name": "ipython",
    "version": 3
   },
   "file_extension": ".py",
   "mimetype": "text/x-python",
   "name": "python",
   "nbconvert_exporter": "python",
   "pygments_lexer": "ipython3",
   "version": "3.11.2"
  },
  "orig_nbformat": 4
 },
 "nbformat": 4,
 "nbformat_minor": 2
}
