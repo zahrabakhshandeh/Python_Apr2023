{
 "cells": [
  {
   "cell_type": "markdown",
   "metadata": {},
   "source": [
    "<div style=\"color: darkblue;text-align:center;\"> \n",
    "    <h3>Session 03 (String)</h3>\n",
    "    <hr>\n",
    "</div>\n"
   ]
  },
  {
   "cell_type": "code",
   "execution_count": 2,
   "metadata": {},
   "outputs": [
    {
     "name": "stdout",
     "output_type": "stream",
     "text": [
      "python\n"
     ]
    }
   ],
   "source": [
    "# String (str) ===> \"\",''\n",
    "text1 = \"python\"\n",
    "print(text1)"
   ]
  },
  {
   "cell_type": "code",
   "execution_count": 6,
   "metadata": {},
   "outputs": [
    {
     "name": "stdout",
     "output_type": "stream",
     "text": [
      "n\n"
     ]
    }
   ],
   "source": [
    "str1 = \"python3\"\n",
    "#index  0123456\n",
    "#index      -2-1\n",
    "print(str1[-2])"
   ]
  },
  {
   "cell_type": "code",
   "execution_count": 16,
   "metadata": {},
   "outputs": [
    {
     "name": "stdout",
     "output_type": "stream",
     "text": [
      "Hi\n",
      "python\n",
      "python!\n",
      "Hph!\n"
     ]
    }
   ],
   "source": [
    "# slicing\n",
    "text = \"Hi python!\"\n",
    "#       0123456789\n",
    "print(text[0:2])   # 0, 1\n",
    "print(text[3:9])\n",
    "# [start:stop:step]\n",
    "# start ===> defulte: 0\n",
    "# stop ===> defulte : end of string\n",
    "# step ===> def : 1\n",
    "print(text[3:])\n",
    "print(text[::3]) # 0, 0 + 3 = 3, 3 + 3 = 6, 6 + 3 = 9"
   ]
  },
  {
   "cell_type": "code",
   "execution_count": 19,
   "metadata": {},
   "outputs": [
    {
     "name": "stdout",
     "output_type": "stream",
     "text": [
      "!nohtyp iH\n",
      "python!\n"
     ]
    }
   ],
   "source": [
    "text = \"Hi python!\"\n",
    "#       0123456789\n",
    "print(text[::-1])\n",
    "print(text[3:50])"
   ]
  },
  {
   "cell_type": "code",
   "execution_count": 22,
   "metadata": {},
   "outputs": [],
   "source": [
    "text = \"Hi python!\"\n",
    "#       0123456789    #length = 10\n",
    "#print(text[20]) # IndexError"
   ]
  },
  {
   "cell_type": "code",
   "execution_count": 23,
   "metadata": {},
   "outputs": [
    {
     "name": "stdout",
     "output_type": "stream",
     "text": [
      "10\n"
     ]
    }
   ],
   "source": [
    "l = len(text)\n",
    "print(l)"
   ]
  },
  {
   "cell_type": "code",
   "execution_count": 27,
   "metadata": {},
   "outputs": [
    {
     "name": "stdout",
     "output_type": "stream",
     "text": [
      "pythonjava\n",
      "**************************************************\n"
     ]
    }
   ],
   "source": [
    "# +, *\n",
    "str1 = \"python\"\n",
    "str2 = \"java\"\n",
    "res = str1 + str2\n",
    "print(res)\n",
    "res = \"*\" * 50\n",
    "print(res)"
   ]
  },
  {
   "cell_type": "code",
   "execution_count": 29,
   "metadata": {},
   "outputs": [
    {
     "name": "stdout",
     "output_type": "stream",
     "text": [
      "True\n"
     ]
    }
   ],
   "source": [
    "# ==, !=\n",
    "str1 = \"python\"\n",
    "str2 = \"java\"\n",
    "print(str1 != str2)"
   ]
  },
  {
   "cell_type": "markdown",
   "metadata": {},
   "source": [
    "# Methods"
   ]
  },
  {
   "cell_type": "code",
   "execution_count": 33,
   "metadata": {},
   "outputs": [
    {
     "name": "stdout",
     "output_type": "stream",
     "text": [
      "hi python!\n",
      "HI PYTHON!\n",
      "Hi Python!\n"
     ]
    }
   ],
   "source": [
    "str1 = \"Hi python!\"\n",
    "str1 = str1.lower()\n",
    "print(str1)\n",
    "str1 = str1.upper()\n",
    "print(str1)\n",
    "str1 = str1.title()\n",
    "print(str1)"
   ]
  },
  {
   "cell_type": "code",
   "execution_count": 47,
   "metadata": {},
   "outputs": [
    {
     "name": "stdout",
     "output_type": "stream",
     "text": [
      "0\n",
      "6\n"
     ]
    }
   ],
   "source": [
    "text = \"hi python!\"\n",
    "print(text.find(\"h\")) # output ====> index\n",
    "print(text.rfind(\"h\"))"
   ]
  },
  {
   "cell_type": "code",
   "execution_count": 46,
   "metadata": {},
   "outputs": [
    {
     "name": "stdout",
     "output_type": "stream",
     "text": [
      "Hi Jython!Jython\n",
      "0\n"
     ]
    }
   ],
   "source": [
    "text = \"Hi Python!Python\"\n",
    "new_text = text.replace(\"P\", \"J\")\n",
    "print(new_text)\n",
    "result = text.count(\"Hii\")\n",
    "print(result)"
   ]
  },
  {
   "cell_type": "code",
   "execution_count": 56,
   "metadata": {},
   "outputs": [
    {
     "name": "stdout",
     "output_type": "stream",
     "text": [
      "['Hi Pyt', 'on !']\n"
     ]
    }
   ],
   "source": [
    "# split, join\n",
    "text = \"Hi Python !\"\n",
    "words = text.split(\"h\") # \" \"\n",
    "print(words)"
   ]
  },
  {
   "cell_type": "code",
   "execution_count": 59,
   "metadata": {},
   "outputs": [
    {
     "name": "stdout",
     "output_type": "stream",
     "text": [
      "HiPython!\n"
     ]
    }
   ],
   "source": [
    "# join\n",
    "words = [\"Hi\", \"Python\", \"!\"]\n",
    "text = \"\".join(words)\n",
    "print(text)"
   ]
  },
  {
   "cell_type": "code",
   "execution_count": null,
   "metadata": {},
   "outputs": [],
   "source": [
    "s1 = 19\n",
    "s2 = 20\n",
    "s3 = 17\n",
    "# list\n",
    "numbers = [12, 30, 13, 15]"
   ]
  },
  {
   "cell_type": "code",
   "execution_count": 62,
   "metadata": {},
   "outputs": [
    {
     "name": "stdout",
     "output_type": "stream",
     "text": [
      "False\n"
     ]
    }
   ],
   "source": [
    "# Search ===> in, not in\n",
    "text = \"Hi python!\"\n",
    "print(\"Hi\" not in text)"
   ]
  },
  {
   "cell_type": "markdown",
   "metadata": {},
   "source": [
    "# Examples"
   ]
  },
  {
   "cell_type": "code",
   "execution_count": 65,
   "metadata": {},
   "outputs": [
    {
     "name": "stdout",
     "output_type": "stream",
     "text": [
      "ok\n"
     ]
    }
   ],
   "source": [
    "# Student[yes/no]? \n",
    "user = input(\"Student[yes/no]? \").lower() # Yes, YES, yes, ...\n",
    "#user = user.lower() # yes\n",
    "if user == \"yes\":\n",
    "    print(\"ok\")"
   ]
  },
  {
   "cell_type": "code",
   "execution_count": 67,
   "metadata": {},
   "outputs": [
    {
     "name": "stdout",
     "output_type": "stream",
     "text": [
      "hi java\n"
     ]
    }
   ],
   "source": [
    "# str1, str2\n",
    "# str2 in str1 ====> True ====> str3 ===> replace str2 str3\n",
    "# str2 in str1 ====> False ===> not found\n",
    "str1 = input(\"your str1: \") # hi python\n",
    "str2 = input(\"your str2: \") # python\n",
    "if str2 in str1:\n",
    "    str3 = input(\"your str3: \") # java ===> hi java\n",
    "    new_str = str1.replace(str2, str3)\n",
    "    print(new_str)\n",
    "else:\n",
    "    print(\"not found!\")\n",
    "\n"
   ]
  },
  {
   "cell_type": "code",
   "execution_count": 69,
   "metadata": {},
   "outputs": [],
   "source": [
    "num1 = 3\n",
    "num2 = 30\n",
    "if num1 > num2:\n",
    "    pass"
   ]
  },
  {
   "cell_type": "code",
   "execution_count": 81,
   "metadata": {},
   "outputs": [
    {
     "name": "stdout",
     "output_type": "stream",
     "text": [
      "result: 10 + 12 = 22\n",
      "result: 10 + 12 = 22\n",
      "result: 10 + 12 = 22\n",
      "my 100 number 10\n"
     ]
    }
   ],
   "source": [
    "# num1\n",
    "# num2 \n",
    "# res = num1 + num2\n",
    "# result: num1 + num2 = res\n",
    "# result: 2 + 3 = 5\n",
    "\n",
    "num1 = 10\n",
    "num2 = 12\n",
    "res = num1 + num2\n",
    "print(\"result:\", num1 , \"+\", num2, \"=\", res)\n",
    "print(\"result: {} + {} = {}\".format(num1, num2, res))\n",
    "print(f\"result: {num1} + {num2} = {num1+num2}\")\n",
    "number = 100\n",
    "print(\"my %d number %d\" % (number, num1))"
   ]
  },
  {
   "cell_type": "code",
   "execution_count": 85,
   "metadata": {},
   "outputs": [
    {
     "name": "stdout",
     "output_type": "stream",
     "text": [
      "<class 'float'>\n"
     ]
    }
   ],
   "source": [
    "num = 10.3\n",
    "print(type(num))"
   ]
  },
  {
   "cell_type": "code",
   "execution_count": 86,
   "metadata": {},
   "outputs": [
    {
     "name": "stdout",
     "output_type": "stream",
     "text": [
      "1\n"
     ]
    }
   ],
   "source": [
    "if type(num) == float:\n",
    "    print(1)"
   ]
  },
  {
   "cell_type": "code",
   "execution_count": 89,
   "metadata": {},
   "outputs": [
    {
     "ename": "ValueError",
     "evalue": "could not convert string to float: '2fdss'",
     "output_type": "error",
     "traceback": [
      "\u001b[0;31m---------------------------------------------------------------------------\u001b[0m",
      "\u001b[0;31mValueError\u001b[0m                                Traceback (most recent call last)",
      "Cell \u001b[0;32mIn[89], line 2\u001b[0m\n\u001b[1;32m      1\u001b[0m number \u001b[39m=\u001b[39m \u001b[39m\"\u001b[39m\u001b[39m2fdss\u001b[39m\u001b[39m\"\u001b[39m\n\u001b[0;32m----> 2\u001b[0m number \u001b[39m=\u001b[39m \u001b[39mfloat\u001b[39;49m(number)\n\u001b[1;32m      3\u001b[0m t1 \u001b[39m=\u001b[39m \u001b[39mtype\u001b[39m(number)\n\u001b[1;32m      4\u001b[0m \u001b[39mprint\u001b[39m(t1)\n",
      "\u001b[0;31mValueError\u001b[0m: could not convert string to float: '2fdss'"
     ]
    }
   ],
   "source": [
    "number = \"2fdss\"\n",
    "number = float(number)\n",
    "t1 = type(number)\n",
    "print(t1)"
   ]
  },
  {
   "cell_type": "code",
   "execution_count": null,
   "metadata": {},
   "outputs": [],
   "source": []
  }
 ],
 "metadata": {
  "kernelspec": {
   "display_name": "Python 3 (ipykernel)",
   "language": "python",
   "name": "python3"
  },
  "language_info": {
   "codemirror_mode": {
    "name": "ipython",
    "version": 3
   },
   "file_extension": ".py",
   "mimetype": "text/x-python",
   "name": "python",
   "nbconvert_exporter": "python",
   "pygments_lexer": "ipython3",
   "version": "3.10.6"
  }
 },
 "nbformat": 4,
 "nbformat_minor": 2
}
