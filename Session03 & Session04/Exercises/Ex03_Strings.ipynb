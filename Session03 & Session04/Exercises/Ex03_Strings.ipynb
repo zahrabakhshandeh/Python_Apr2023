{
 "cells": [
  {
   "cell_type": "markdown",
   "metadata": {},
   "source": [
    "## Hands-On Prerequisite Python in AI\n",
    "## Exersise 03\n",
    "\n"
   ]
  },
  {
   "cell_type": "markdown",
   "metadata": {},
   "source": [
    "##### 1. Get a string from input and display the first, last and middle characters."
   ]
  },
  {
   "cell_type": "code",
   "execution_count": 17,
   "metadata": {},
   "outputs": [
    {
     "name": "stdout",
     "output_type": "stream",
     "text": [
      "First character of “Python” is: p\n",
      "Last character of “Python” is: n\n",
      "Middle characters of “Python” is: th\n"
     ]
    }
   ],
   "source": [
    "word = input(\"Please Enter a String: \")\n",
    "# first character\n",
    "first = word[0]\n",
    "# middle characters\n",
    "l = len(word) # find length of string\n",
    "midd = l // 2\n",
    "if l % 2 == 0:\n",
    "    middle = word[midd-1] + word[midd]\n",
    "else:\n",
    "    middle = word[midd]\n",
    "# first character\n",
    "last = word[-1]\n",
    "print(f\"\"\"First character of “Python” is: {first}\n",
    "Last character of “Python” is: {last}\n",
    "Middle characters of “Python” is: {middle}\"\"\")"
   ]
  },
  {
   "cell_type": "markdown",
   "metadata": {},
   "source": [
    "##### 2. Get three strings from the input and display in the output any one whose length is greater than the average length of the three strings."
   ]
  },
  {
   "cell_type": "code",
   "execution_count": 18,
   "metadata": {},
   "outputs": [
    {
     "name": "stdout",
     "output_type": "stream",
     "text": [
      "python\n"
     ]
    }
   ],
   "source": [
    "str1 = input(\"Please Enter str1: \")\n",
    "str2 = input(\"Please Enter str2: \")\n",
    "str3 = input(\"Please Enter str3: \")\n",
    "avg = (len(str1) + len(str2) + len(str3)) / 3\n",
    "if len(str1) > avg:\n",
    "    print(str1)\n",
    "if len(str2) > avg:\n",
    "    print(str2)\n",
    "if len(str3) > avg:\n",
    "    print(str3)"
   ]
  },
  {
   "cell_type": "markdown",
   "metadata": {},
   "source": [
    "##### 3. Get two strings from the input, if the second string is present in the first string, remove it, otherwise add the second string at the start and end of the first string. Display the new string in the output."
   ]
  },
  {
   "cell_type": "code",
   "execution_count": 19,
   "metadata": {},
   "outputs": [
    {
     "name": "stdout",
     "output_type": "stream",
     "text": [
      "afilogera\n"
     ]
    }
   ],
   "source": [
    "str1 = input(\"Please Enter str1: \")\n",
    "str2 = input(\"Please Enter str2: \")\n",
    "if str2 in str1:\n",
    "    new_str = str1.replace(str2, \"\")\n",
    "else:\n",
    "    new_str = str2 + str1 + str2\n",
    "\n",
    "print(new_str)\n"
   ]
  },
  {
   "cell_type": "markdown",
   "metadata": {},
   "source": [
    "#### 4. Find four new methods for strings."
   ]
  },
  {
   "cell_type": "code",
   "execution_count": 13,
   "metadata": {},
   "outputs": [
    {
     "name": "stdout",
     "output_type": "stream",
     "text": [
      "False\n",
      "True\n"
     ]
    }
   ],
   "source": [
    "num = \"-1000\"\n",
    "is_num = num.isnumeric()\n",
    "print(is_num)\n",
    "\n",
    "num = \"055\"\n",
    "is_num = num.isnumeric()\n",
    "print(is_num)"
   ]
  },
  {
   "cell_type": "code",
   "execution_count": 10,
   "metadata": {},
   "outputs": [
    {
     "name": "stdout",
     "output_type": "stream",
     "text": [
      "     python      \n",
      "python\n"
     ]
    }
   ],
   "source": [
    "txt = \"     python      \"\n",
    "print(txt)\n",
    "txt = txt.strip()\n",
    "print(txt)"
   ]
  },
  {
   "cell_type": "code",
   "execution_count": 11,
   "metadata": {},
   "outputs": [
    {
     "name": "stdout",
     "output_type": "stream",
     "text": [
      "True\n"
     ]
    }
   ],
   "source": [
    "txt = \"test.img\"\n",
    "x = txt.endswith(\".img\")\n",
    "\n",
    "print(x)"
   ]
  },
  {
   "cell_type": "code",
   "execution_count": 12,
   "metadata": {},
   "outputs": [
    {
     "name": "stdout",
     "output_type": "stream",
     "text": [
      "i am learning python!\n"
     ]
    }
   ],
   "source": [
    "txt = \"I Am Learning Python!\"\n",
    "\n",
    "x = txt.casefold()\n",
    "\n",
    "print(x)"
   ]
  }
 ],
 "metadata": {
  "kernelspec": {
   "display_name": "Python 3 (ipykernel)",
   "language": "python",
   "name": "python3"
  },
  "language_info": {
   "codemirror_mode": {
    "name": "ipython",
    "version": 3
   },
   "file_extension": ".py",
   "mimetype": "text/x-python",
   "name": "python",
   "nbconvert_exporter": "python",
   "pygments_lexer": "ipython3",
   "version": "3.10.6"
  }
 },
 "nbformat": 4,
 "nbformat_minor": 2
}
