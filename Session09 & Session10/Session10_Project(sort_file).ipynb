{
 "cells": [
  {
   "attachments": {},
   "cell_type": "markdown",
   "metadata": {},
   "source": [
    "### Session10 (Example)"
   ]
  },
  {
   "cell_type": "code",
   "execution_count": 1,
   "metadata": {},
   "outputs": [],
   "source": [
    "import os\n",
    "import glob"
   ]
  },
  {
   "cell_type": "code",
   "execution_count": 12,
   "metadata": {},
   "outputs": [],
   "source": [
    "def create_folders(exts):\n",
    "    for i in exts:\n",
    "        os.makedirs(f\"folder_{i}\")\n",
    "    "
   ]
  },
  {
   "cell_type": "code",
   "execution_count": 16,
   "metadata": {},
   "outputs": [],
   "source": [
    "def move_files(list_of_files): \n",
    "    for i in list_of_files:# i = test.py ===> folder_py/\n",
    "        ext = i.split(\".\") # ext = [\"test\", \"py\"]\n",
    "        ext = ext[-1].lower() # ext = \"py\"\n",
    "        os.rename(i, f\"folder_{ext}/{i}\") # folder_py/test.py"
   ]
  },
  {
   "cell_type": "code",
   "execution_count": 3,
   "metadata": {},
   "outputs": [],
   "source": [
    "# step1\n",
    "list_of_files = glob.glob(\"*\")\n",
    "#list_of_files"
   ]
  },
  {
   "cell_type": "code",
   "execution_count": 11,
   "metadata": {},
   "outputs": [
    {
     "name": "stdout",
     "output_type": "stream",
     "text": [
      "{'py', 'png', 'pdf', 'csv', 'zip', 'ipynb'}\n"
     ]
    }
   ],
   "source": [
    "# step2\n",
    "exts = set()\n",
    "for i in list_of_files:\n",
    "    ext = i.split(\".\")\n",
    "    exts.add(ext[-1].lower())\n",
    "print(exts)"
   ]
  },
  {
   "cell_type": "code",
   "execution_count": 15,
   "metadata": {},
   "outputs": [],
   "source": [
    "#create_folders(exts)"
   ]
  },
  {
   "cell_type": "code",
   "execution_count": 17,
   "metadata": {},
   "outputs": [],
   "source": [
    "move_files(list_of_files)"
   ]
  }
 ],
 "metadata": {
  "kernelspec": {
   "display_name": "Python 3",
   "language": "python",
   "name": "python3"
  },
  "language_info": {
   "codemirror_mode": {
    "name": "ipython",
    "version": 3
   },
   "file_extension": ".py",
   "mimetype": "text/x-python",
   "name": "python",
   "nbconvert_exporter": "python",
   "pygments_lexer": "ipython3",
   "version": "3.11.2"
  },
  "orig_nbformat": 4
 },
 "nbformat": 4,
 "nbformat_minor": 2
}
