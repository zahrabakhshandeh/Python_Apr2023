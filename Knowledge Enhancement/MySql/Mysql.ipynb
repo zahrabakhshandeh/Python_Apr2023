{
 "cells": [
  {
   "cell_type": "markdown",
   "id": "4e882f1b",
   "metadata": {},
   "source": [
    "# Install MySql\n",
    "    1. sudo apt update\n",
    "    2. sudo apt upgrade\n",
    "    3. sudo apt install mysql-server\n",
    "    4. mysql --version\n",
    "    \n",
    "    Password\n",
    "    1. sudo mysql -u root\n",
    "    2. USE mysql;\n",
    "    3. ALTER USER 'root'@'localhost' IDENTIFIED WITH mysql_native_password BY 'yourpass';\n",
    "    \n",
    "# Install Mysql.connector (Python Library)\n",
    "    python -m pip install mysql-connector-python\n"
   ]
  },
  {
   "cell_type": "markdown",
   "id": "e7401946",
   "metadata": {},
   "source": [
    "# Import Library"
   ]
  },
  {
   "cell_type": "code",
   "execution_count": 1,
   "id": "bc3dac74",
   "metadata": {},
   "outputs": [],
   "source": [
    "import mysql.connector"
   ]
  },
  {
   "cell_type": "markdown",
   "id": "212de09a",
   "metadata": {},
   "source": [
    "# creating a connection"
   ]
  },
  {
   "cell_type": "code",
   "execution_count": 2,
   "id": "98eb787d",
   "metadata": {},
   "outputs": [],
   "source": [
    "mydb = mysql.connector.connect(\n",
    "    host = \"localhost\",\n",
    "    user = \"root\",\n",
    "    password = \"pass\"\n",
    ")"
   ]
  },
  {
   "cell_type": "code",
   "execution_count": 3,
   "id": "658c06e6",
   "metadata": {},
   "outputs": [],
   "source": [
    "mycursor = mydb.cursor()"
   ]
  },
  {
   "cell_type": "markdown",
   "id": "fc877ee2",
   "metadata": {},
   "source": [
    "# Create new Dataset"
   ]
  },
  {
   "cell_type": "code",
   "execution_count": 5,
   "id": "69872e5f",
   "metadata": {},
   "outputs": [],
   "source": [
    "sql = \"CREATE DATABASE Shop\"\n",
    "mycursor.execute(sql)"
   ]
  },
  {
   "cell_type": "markdown",
   "id": "f5f9209a",
   "metadata": {},
   "source": [
    "# Show all Datasets"
   ]
  },
  {
   "cell_type": "code",
   "execution_count": 9,
   "id": "0558385b",
   "metadata": {},
   "outputs": [],
   "source": [
    "sql = \"SHOW DATABASES\"\n",
    "mycursor.execute(sql)"
   ]
  },
  {
   "cell_type": "code",
   "execution_count": 10,
   "id": "c9592120",
   "metadata": {},
   "outputs": [
    {
     "data": {
      "text/plain": [
       "[('Company',),\n",
       " ('OnlineShop',),\n",
       " ('Online_Shop',),\n",
       " ('Shop',),\n",
       " ('Shop_Online',),\n",
       " ('company',),\n",
       " ('information_schema',),\n",
       " ('mydatabase',),\n",
       " ('mysql',),\n",
       " ('new_shop',),\n",
       " ('online_shop',),\n",
       " ('performance_schema',),\n",
       " ('phone_book',),\n",
       " ('python1',),\n",
       " ('sys',),\n",
       " ('university',)]"
      ]
     },
     "execution_count": 10,
     "metadata": {},
     "output_type": "execute_result"
    }
   ],
   "source": [
    "mycursor.fetchall()"
   ]
  },
  {
   "cell_type": "markdown",
   "id": "660bebfa",
   "metadata": {},
   "source": [
    "# Remove a Dataset"
   ]
  },
  {
   "cell_type": "code",
   "execution_count": 8,
   "id": "1f41257c",
   "metadata": {},
   "outputs": [],
   "source": [
    "sql = \"DROP DATABASE A1\"\n",
    "mycursor.execute(sql)"
   ]
  },
  {
   "cell_type": "markdown",
   "id": "66d62915",
   "metadata": {},
   "source": [
    "# Connecting to \"Shop\""
   ]
  },
  {
   "cell_type": "code",
   "execution_count": 11,
   "id": "6ad516db",
   "metadata": {},
   "outputs": [],
   "source": [
    "mydb = mysql.connector.connect(\n",
    "    host = \"localhost\",\n",
    "    user = \"root\",\n",
    "    password = \"pass\",\n",
    "    database = \"Shop\"\n",
    ")"
   ]
  },
  {
   "cell_type": "code",
   "execution_count": 12,
   "id": "83731029",
   "metadata": {},
   "outputs": [],
   "source": [
    "mycursor = mydb.cursor()"
   ]
  },
  {
   "cell_type": "markdown",
   "id": "e86eaeb2",
   "metadata": {},
   "source": [
    "# Creating tables"
   ]
  },
  {
   "cell_type": "code",
   "execution_count": 16,
   "id": "72b8a2d7",
   "metadata": {},
   "outputs": [],
   "source": [
    "sql = \"\"\"\n",
    "        CREATE TABLE Users(\n",
    "        user_id int NOT NULL,\n",
    "        first_name varchar(255),\n",
    "        last_name varchar(255) NOT NULL,\n",
    "        age int,\n",
    "        PRIMARY KEY (user_id)\n",
    "        );\n",
    "    \"\"\""
   ]
  },
  {
   "cell_type": "code",
   "execution_count": 17,
   "id": "6dfb94ae",
   "metadata": {},
   "outputs": [],
   "source": [
    "mycursor.execute(sql)"
   ]
  },
  {
   "cell_type": "code",
   "execution_count": 25,
   "id": "88425101",
   "metadata": {},
   "outputs": [],
   "source": [
    "sql = \"\"\"\n",
    "        CREATE TABLE Orders(\n",
    "        order_id int NOT NULL,\n",
    "        name varchar(255) NOT NULL,\n",
    "        price int,\n",
    "        user_id int NOT NULL,\n",
    "        PRIMARY KEY (order_id),\n",
    "        FOREIGN KEY (user_id) REFERENCES Users (user_id)\n",
    "        );\n",
    "    \"\"\""
   ]
  },
  {
   "cell_type": "code",
   "execution_count": 26,
   "id": "fe84cb3c",
   "metadata": {},
   "outputs": [],
   "source": [
    "mycursor.execute(sql)"
   ]
  },
  {
   "cell_type": "markdown",
   "id": "ccfa845c",
   "metadata": {},
   "source": [
    "# Show Tables"
   ]
  },
  {
   "cell_type": "code",
   "execution_count": 27,
   "id": "50524761",
   "metadata": {},
   "outputs": [],
   "source": [
    "sql = \"SHOW TABLES\"\n",
    "mycursor.execute(sql)"
   ]
  },
  {
   "cell_type": "code",
   "execution_count": 28,
   "id": "3a5469fd",
   "metadata": {},
   "outputs": [
    {
     "data": {
      "text/plain": [
       "[('Orders',), ('Users',)]"
      ]
     },
     "execution_count": 28,
     "metadata": {},
     "output_type": "execute_result"
    }
   ],
   "source": [
    "mycursor.fetchall()"
   ]
  },
  {
   "cell_type": "markdown",
   "id": "cd07d3d7",
   "metadata": {},
   "source": [
    "## DROP TABLE"
   ]
  },
  {
   "cell_type": "code",
   "execution_count": 22,
   "id": "76a2d259",
   "metadata": {},
   "outputs": [],
   "source": [
    "sql = \"DROP TABLE Orders\"\n",
    "mycursor.execute(sql)"
   ]
  },
  {
   "cell_type": "markdown",
   "id": "f61cb456",
   "metadata": {},
   "source": [
    "# Insert data"
   ]
  },
  {
   "cell_type": "code",
   "execution_count": 39,
   "id": "82768b79",
   "metadata": {},
   "outputs": [],
   "source": [
    "sql = \"INSERT INTO Users VALUES (2, 'ali', 'Ara', 41), (3, 'Sara', 'Ara', 15)\""
   ]
  },
  {
   "cell_type": "code",
   "execution_count": 40,
   "id": "84c2139b",
   "metadata": {},
   "outputs": [],
   "source": [
    "mycursor.execute(sql)"
   ]
  },
  {
   "cell_type": "code",
   "execution_count": 41,
   "id": "86cfa196",
   "metadata": {},
   "outputs": [],
   "source": [
    "mydb.commit()"
   ]
  },
  {
   "cell_type": "markdown",
   "id": "39377804",
   "metadata": {},
   "source": [
    "# Select"
   ]
  },
  {
   "cell_type": "code",
   "execution_count": 47,
   "id": "2f77373f",
   "metadata": {},
   "outputs": [],
   "source": [
    "sql = \"SELECT * FROM Users WHERE first_name LIKE 'a%'\"\n",
    "mycursor.execute(sql)"
   ]
  },
  {
   "cell_type": "code",
   "execution_count": 48,
   "id": "fbd9cb3e",
   "metadata": {},
   "outputs": [
    {
     "data": {
      "text/plain": [
       "[(1, 'ali', 'Ara', 21), (2, 'ali', 'Ara', 41)]"
      ]
     },
     "execution_count": 48,
     "metadata": {},
     "output_type": "execute_result"
    }
   ],
   "source": [
    "mycursor.fetchall()"
   ]
  },
  {
   "cell_type": "markdown",
   "id": "33fd046e",
   "metadata": {},
   "source": [
    "# Remove data"
   ]
  },
  {
   "cell_type": "code",
   "execution_count": 49,
   "id": "95b989a6",
   "metadata": {},
   "outputs": [],
   "source": [
    "sql = \"DELETE FROM Users WHERE user_id = 2\"\n",
    "mycursor.execute(sql)"
   ]
  },
  {
   "cell_type": "code",
   "execution_count": 50,
   "id": "abc5284c",
   "metadata": {},
   "outputs": [],
   "source": [
    "mydb.commit()"
   ]
  },
  {
   "cell_type": "markdown",
   "id": "482d9f36",
   "metadata": {},
   "source": [
    "# Update data"
   ]
  },
  {
   "cell_type": "code",
   "execution_count": 52,
   "id": "776d44b0",
   "metadata": {},
   "outputs": [],
   "source": [
    "sql = \"\"\"\n",
    "        UPDATE Users SET first_name = 'ALI2'\n",
    "        WHERE user_id = 1\n",
    "    \"\"\"\n",
    "mycursor.execute(sql)"
   ]
  },
  {
   "cell_type": "code",
   "execution_count": 53,
   "id": "d3a287fb",
   "metadata": {},
   "outputs": [],
   "source": [
    "mydb.commit()"
   ]
  },
  {
   "cell_type": "code",
   "execution_count": null,
   "id": "bf4a6cbc",
   "metadata": {},
   "outputs": [],
   "source": []
  }
 ],
 "metadata": {
  "kernelspec": {
   "display_name": "Python 3 (ipykernel)",
   "language": "python",
   "name": "python3"
  },
  "language_info": {
   "codemirror_mode": {
    "name": "ipython",
    "version": 3
   },
   "file_extension": ".py",
   "mimetype": "text/x-python",
   "name": "python",
   "nbconvert_exporter": "python",
   "pygments_lexer": "ipython3",
   "version": "3.10.6"
  }
 },
 "nbformat": 4,
 "nbformat_minor": 5
}
