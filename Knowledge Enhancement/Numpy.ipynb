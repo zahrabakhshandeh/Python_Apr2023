{
 "cells": [
  {
   "cell_type": "code",
   "execution_count": 1,
   "id": "0f32b103",
   "metadata": {},
   "outputs": [],
   "source": [
    "# %pip install numpy\n",
    "\n",
    "# conda install numpy"
   ]
  },
  {
   "attachments": {},
   "cell_type": "markdown",
   "id": "a17378fa",
   "metadata": {},
   "source": [
    "### Importing Numpy"
   ]
  },
  {
   "cell_type": "code",
   "execution_count": 2,
   "id": "7792600f",
   "metadata": {},
   "outputs": [],
   "source": [
    "import numpy as np"
   ]
  },
  {
   "attachments": {},
   "cell_type": "markdown",
   "id": "8fdb702d",
   "metadata": {},
   "source": [
    "### Why Numpy is fast?"
   ]
  },
  {
   "cell_type": "code",
   "execution_count": 3,
   "id": "ff21cc0b",
   "metadata": {},
   "outputs": [
    {
     "name": "stdout",
     "output_type": "stream",
     "text": [
      "index 0 of my_list is:  1   --------> Type: <class 'int'>\n",
      "index 1 of my_list is:  2   --------> Type: <class 'int'>\n",
      "index 2 of my_list is:  A   --------> Type: <class 'str'>\n",
      "index 3 of my_list is:  B   --------> Type: <class 'str'>\n"
     ]
    }
   ],
   "source": [
    "# Python\n",
    "my_list = [1,2,\"A\",\"B\"]\n",
    "for i in range(len(my_list)):\n",
    "    print(f\"index {i} of my_list is:  {my_list[i]}   --------> Type: {type(my_list[i])}\")"
   ]
  },
  {
   "cell_type": "code",
   "execution_count": 4,
   "id": "460d2e93",
   "metadata": {},
   "outputs": [],
   "source": [
    "# Numpy\n",
    "arr = np.array([1,2,3])"
   ]
  },
  {
   "cell_type": "code",
   "execution_count": 5,
   "id": "4786c432",
   "metadata": {},
   "outputs": [
    {
     "name": "stdout",
     "output_type": "stream",
     "text": [
      "index 0 of arr is:  1   --------> Type: <class 'numpy.int32'>\n",
      "index 1 of arr is:  2   --------> Type: <class 'numpy.int32'>\n",
      "index 2 of arr is:  3   --------> Type: <class 'numpy.int32'>\n"
     ]
    }
   ],
   "source": [
    "for i in range(len(arr)):\n",
    "    print(f\"index {i} of arr is:  {arr[i]}   --------> Type: {type(arr[i])}\")"
   ]
  },
  {
   "cell_type": "code",
   "execution_count": 6,
   "id": "bd7877b3",
   "metadata": {},
   "outputs": [
    {
     "data": {
      "text/plain": [
       "numpy.int32"
      ]
     },
     "execution_count": 6,
     "metadata": {},
     "output_type": "execute_result"
    }
   ],
   "source": [
    "type(arr[0])"
   ]
  },
  {
   "attachments": {},
   "cell_type": "markdown",
   "id": "a65aa200",
   "metadata": {},
   "source": [
    "## Less Memory"
   ]
  },
  {
   "attachments": {},
   "cell_type": "markdown",
   "id": "b79b758f",
   "metadata": {},
   "source": [
    "#### Creating Numpy array with 100000000 items"
   ]
  },
  {
   "cell_type": "code",
   "execution_count": 7,
   "id": "560ee4ad",
   "metadata": {},
   "outputs": [],
   "source": [
    "arr = np.arange(100000000)"
   ]
  },
  {
   "attachments": {},
   "cell_type": "markdown",
   "id": "3003667c",
   "metadata": {},
   "source": [
    "#### Creating python list with 100000000 items\n"
   ]
  },
  {
   "cell_type": "code",
   "execution_count": 8,
   "id": "27e66c06",
   "metadata": {},
   "outputs": [],
   "source": [
    "py_list = [x for x in range(100000000)]"
   ]
  },
  {
   "attachments": {},
   "cell_type": "markdown",
   "id": "1b90430d",
   "metadata": {},
   "source": [
    "#### Checking Memory"
   ]
  },
  {
   "cell_type": "code",
   "execution_count": null,
   "id": "b698e848",
   "metadata": {},
   "outputs": [],
   "source": [
    "l = [1,2,3]\n",
    "arr = np.array(l)\n",
    "sys.getsizeof(arr)\n",
    "size_list_pointer = sys.getsizeof(l)\n",
    "size_element = sys.getsizeof(l[2])\n",
    "elements_all_size = size_element * len(l)\n",
    "total = elements_all_size + size_list_pointer\n",
    "total"
   ]
  },
  {
   "attachments": {},
   "cell_type": "markdown",
   "id": "1d366d32",
   "metadata": {},
   "source": [
    "#### List Size"
   ]
  },
  {
   "cell_type": "code",
   "execution_count": 9,
   "id": "54557b6b",
   "metadata": {},
   "outputs": [],
   "source": [
    "import sys"
   ]
  },
  {
   "cell_type": "code",
   "execution_count": 10,
   "id": "b30a27bc",
   "metadata": {},
   "outputs": [
    {
     "name": "stdout",
     "output_type": "stream",
     "text": [
      "Size of the list in bytes:  24\n"
     ]
    }
   ],
   "source": [
    "# size of each of the list\n",
    "list_size_0 = sys.getsizeof(py_list[0])\n",
    "print(\"Size of the list in bytes: \",list_size_0) "
   ]
  },
  {
   "cell_type": "code",
   "execution_count": 11,
   "id": "f5921f79",
   "metadata": {},
   "outputs": [
    {
     "name": "stdout",
     "output_type": "stream",
     "text": [
      "The size of the list is 835128600 bytes.\n"
     ]
    }
   ],
   "source": [
    "# Size of list\n",
    "size_of_list = sys.getsizeof(py_list)\n",
    "print(f\"The size of the list is {size_of_list} bytes.\")"
   ]
  },
  {
   "attachments": {},
   "cell_type": "markdown",
   "id": "427e4e78",
   "metadata": {},
   "source": [
    "#### Numpy Size"
   ]
  },
  {
   "cell_type": "code",
   "execution_count": 12,
   "id": "5e331b23",
   "metadata": {},
   "outputs": [
    {
     "name": "stdout",
     "output_type": "stream",
     "text": [
      "Size of each element of the Numpy array in bytes:  4\n"
     ]
    }
   ],
   "source": [
    "np_array_elem_0_size = arr[0].itemsize\n",
    "print(\"Size of each element of the Numpy array in bytes: \", np_array_elem_0_size)"
   ]
  },
  {
   "cell_type": "code",
   "execution_count": 13,
   "id": "988a5c74",
   "metadata": {},
   "outputs": [
    {
     "name": "stdout",
     "output_type": "stream",
     "text": [
      "Size of each element of the Numpy array in bytes:  4\n"
     ]
    }
   ],
   "source": [
    "# size of each element of the Numpy array\n",
    "np_array_elem_size = arr.itemsize\n",
    "print(\"Size of each element of the Numpy array in bytes: \", np_array_elem_size)"
   ]
  },
  {
   "cell_type": "code",
   "execution_count": 14,
   "id": "69b79a23",
   "metadata": {},
   "outputs": [
    {
     "name": "stdout",
     "output_type": "stream",
     "text": [
      "Size of the whole Numpy array in bytes:  400000112\n"
     ]
    }
   ],
   "source": [
    "# printing size of the whole Numpy array\n",
    "total_np_array_size = sys.getsizeof(arr)\n",
    "print(\"Size of the whole Numpy array in bytes: \",total_np_array_size)"
   ]
  },
  {
   "attachments": {},
   "cell_type": "markdown",
   "id": "28a4361a",
   "metadata": {},
   "source": [
    "### Comparing Numpy and List"
   ]
  },
  {
   "cell_type": "code",
   "execution_count": 15,
   "id": "e1cd3336",
   "metadata": {},
   "outputs": [
    {
     "name": "stdout",
     "output_type": "stream",
     "text": [
      "Numpy element has smaller size\n"
     ]
    }
   ],
   "source": [
    "# list : each list element size, whole list size\n",
    "# numpy: each numpy element size,  whole numpy array size\n",
    "\n",
    "\n",
    "# Each Element ---> for example index 0\n",
    "if np_array_elem_0_size < list_size_0:\n",
    "    print(\"Numpy element has smaller size\")\n",
    "else:\n",
    "    print(\"list has smaller size\")"
   ]
  },
  {
   "cell_type": "code",
   "execution_count": 16,
   "id": "66729850",
   "metadata": {},
   "outputs": [
    {
     "name": "stdout",
     "output_type": "stream",
     "text": [
      "Numpy arr is smaller\n"
     ]
    }
   ],
   "source": [
    "# Whole numpy arr and list\n",
    "if total_np_array_size < size_of_list:\n",
    "    print(\"Numpy arr is smaller\")\n",
    "else:\n",
    "    print(\"Python list is smaller\")"
   ]
  },
  {
   "attachments": {},
   "cell_type": "markdown",
   "id": "ab46b550",
   "metadata": {},
   "source": [
    "#### Speed of Numpy arr and list"
   ]
  },
  {
   "cell_type": "code",
   "execution_count": 17,
   "id": "7551e767",
   "metadata": {},
   "outputs": [
    {
     "name": "stdout",
     "output_type": "stream",
     "text": [
      "CPU times: total: 172 ms\n",
      "Wall time: 173 ms\n"
     ]
    }
   ],
   "source": [
    "%time arr = arr * 10"
   ]
  },
  {
   "cell_type": "code",
   "execution_count": 18,
   "id": "0b299dd5",
   "metadata": {},
   "outputs": [
    {
     "name": "stdout",
     "output_type": "stream",
     "text": [
      "CPU times: total: 12.1 s\n",
      "Wall time: 12.1 s\n"
     ]
    }
   ],
   "source": [
    "%time py_list = [x * 10 for x in py_list]"
   ]
  },
  {
   "attachments": {},
   "cell_type": "markdown",
   "id": "8710d991",
   "metadata": {},
   "source": [
    "# ***Basic Numpy***"
   ]
  },
  {
   "attachments": {},
   "cell_type": "markdown",
   "id": "17c74ee4",
   "metadata": {},
   "source": [
    "**Create Numpy Array**\n",
    "\n",
    "**Point:** Unlike Python lists, NumPy is constrained to arrays that all contain the same type."
   ]
  },
  {
   "cell_type": "code",
   "execution_count": 19,
   "id": "fe5ff910",
   "metadata": {},
   "outputs": [
    {
     "name": "stdout",
     "output_type": "stream",
     "text": [
      "Help on built-in function array in module numpy:\n",
      "\n",
      "array(...)\n",
      "    array(object, dtype=None, *, copy=True, order='K', subok=False, ndmin=0,\n",
      "          like=None)\n",
      "    \n",
      "    Create an array.\n",
      "    \n",
      "    Parameters\n",
      "    ----------\n",
      "    object : array_like\n",
      "        An array, any object exposing the array interface, an object whose\n",
      "        __array__ method returns an array, or any (nested) sequence.\n",
      "        If object is a scalar, a 0-dimensional array containing object is\n",
      "        returned.\n",
      "    dtype : data-type, optional\n",
      "        The desired data-type for the array.  If not given, then the type will\n",
      "        be determined as the minimum type required to hold the objects in the\n",
      "        sequence.\n",
      "    copy : bool, optional\n",
      "        If true (default), then the object is copied.  Otherwise, a copy will\n",
      "        only be made if __array__ returns a copy, if obj is a nested sequence,\n",
      "        or if a copy is needed to satisfy any of the other requirements\n",
      "        (`dtype`, `order`, etc.).\n",
      "    order : {'K', 'A', 'C', 'F'}, optional\n",
      "        Specify the memory layout of the array. If object is not an array, the\n",
      "        newly created array will be in C order (row major) unless 'F' is\n",
      "        specified, in which case it will be in Fortran order (column major).\n",
      "        If object is an array the following holds.\n",
      "    \n",
      "        ===== ========= ===================================================\n",
      "        order  no copy                     copy=True\n",
      "        ===== ========= ===================================================\n",
      "        'K'   unchanged F & C order preserved, otherwise most similar order\n",
      "        'A'   unchanged F order if input is F and not C, otherwise C order\n",
      "        'C'   C order   C order\n",
      "        'F'   F order   F order\n",
      "        ===== ========= ===================================================\n",
      "    \n",
      "        When ``copy=False`` and a copy is made for other reasons, the result is\n",
      "        the same as if ``copy=True``, with some exceptions for 'A', see the\n",
      "        Notes section. The default order is 'K'.\n",
      "    subok : bool, optional\n",
      "        If True, then sub-classes will be passed-through, otherwise\n",
      "        the returned array will be forced to be a base-class array (default).\n",
      "    ndmin : int, optional\n",
      "        Specifies the minimum number of dimensions that the resulting\n",
      "        array should have.  Ones will be prepended to the shape as\n",
      "        needed to meet this requirement.\n",
      "    like : array_like, optional\n",
      "        Reference object to allow the creation of arrays which are not\n",
      "        NumPy arrays. If an array-like passed in as ``like`` supports\n",
      "        the ``__array_function__`` protocol, the result will be defined\n",
      "        by it. In this case, it ensures the creation of an array object\n",
      "        compatible with that passed in via this argument.\n",
      "    \n",
      "        .. versionadded:: 1.20.0\n",
      "    \n",
      "    Returns\n",
      "    -------\n",
      "    out : ndarray\n",
      "        An array object satisfying the specified requirements.\n",
      "    \n",
      "    See Also\n",
      "    --------\n",
      "    empty_like : Return an empty array with shape and type of input.\n",
      "    ones_like : Return an array of ones with shape and type of input.\n",
      "    zeros_like : Return an array of zeros with shape and type of input.\n",
      "    full_like : Return a new array with shape of input filled with value.\n",
      "    empty : Return a new uninitialized array.\n",
      "    ones : Return a new array setting values to one.\n",
      "    zeros : Return a new array setting values to zero.\n",
      "    full : Return a new array of given shape filled with value.\n",
      "    \n",
      "    \n",
      "    Notes\n",
      "    -----\n",
      "    When order is 'A' and `object` is an array in neither 'C' nor 'F' order,\n",
      "    and a copy is forced by a change in dtype, then the order of the result is\n",
      "    not necessarily 'C' as expected. This is likely a bug.\n",
      "    \n",
      "    Examples\n",
      "    --------\n",
      "    >>> np.array([1, 2, 3])\n",
      "    array([1, 2, 3])\n",
      "    \n",
      "    Upcasting:\n",
      "    \n",
      "    >>> np.array([1, 2, 3.0])\n",
      "    array([ 1.,  2.,  3.])\n",
      "    \n",
      "    More than one dimension:\n",
      "    \n",
      "    >>> np.array([[1, 2], [3, 4]])\n",
      "    array([[1, 2],\n",
      "           [3, 4]])\n",
      "    \n",
      "    Minimum dimensions 2:\n",
      "    \n",
      "    >>> np.array([1, 2, 3], ndmin=2)\n",
      "    array([[1, 2, 3]])\n",
      "    \n",
      "    Type provided:\n",
      "    \n",
      "    >>> np.array([1, 2, 3], dtype=complex)\n",
      "    array([ 1.+0.j,  2.+0.j,  3.+0.j])\n",
      "    \n",
      "    Data-type consisting of more than one element:\n",
      "    \n",
      "    >>> x = np.array([(1,2),(3,4)],dtype=[('a','<i4'),('b','<i4')])\n",
      "    >>> x['a']\n",
      "    array([1, 3])\n",
      "    \n",
      "    Creating an array from sub-classes:\n",
      "    \n",
      "    >>> np.array(np.mat('1 2; 3 4'))\n",
      "    array([[1, 2],\n",
      "           [3, 4]])\n",
      "    \n",
      "    >>> np.array(np.mat('1 2; 3 4'), subok=True)\n",
      "    matrix([[1, 2],\n",
      "            [3, 4]])\n",
      "\n"
     ]
    }
   ],
   "source": [
    "# array(): Create Numpy Array from list or tuple\n",
    "# array(object, dtype=None, *, copy=True, order='K', subok=False, ndmin=0, like=None)\n",
    "help(np.array)"
   ]
  },
  {
   "cell_type": "code",
   "execution_count": 20,
   "id": "69730328",
   "metadata": {},
   "outputs": [
    {
     "data": {
      "text/plain": [
       "array([12, 45, 14, 40])"
      ]
     },
     "execution_count": 20,
     "metadata": {},
     "output_type": "execute_result"
    }
   ],
   "source": [
    "arr1 = np.array([12, 45, 14, 40])\n",
    "arr1"
   ]
  },
  {
   "cell_type": "code",
   "execution_count": 21,
   "id": "af3649ac",
   "metadata": {},
   "outputs": [
    {
     "name": "stdout",
     "output_type": "stream",
     "text": [
      "[1. 2. 3.]\n",
      "float64\n"
     ]
    }
   ],
   "source": [
    "arr_float = np.array([1, 2, 3], dtype=np.float64)\n",
    "print(arr_float)\n",
    "print(arr_float.dtype)"
   ]
  },
  {
   "attachments": {},
   "cell_type": "markdown",
   "id": "737384f2",
   "metadata": {},
   "source": [
    "**point:** If types do not match, NumPy will upcast if possible."
   ]
  },
  {
   "cell_type": "code",
   "execution_count": 22,
   "id": "505c22ae",
   "metadata": {},
   "outputs": [],
   "source": [
    "# integers are up-cast to float\n",
    "arr2= np.array([12.5, 45.0, 14, 40])"
   ]
  },
  {
   "cell_type": "code",
   "execution_count": 23,
   "id": "b583823f",
   "metadata": {},
   "outputs": [
    {
     "data": {
      "text/plain": [
       "14.0"
      ]
     },
     "execution_count": 23,
     "metadata": {},
     "output_type": "execute_result"
    }
   ],
   "source": [
    "arr2[2]"
   ]
  },
  {
   "cell_type": "code",
   "execution_count": 24,
   "id": "c7d755fe",
   "metadata": {},
   "outputs": [],
   "source": [
    "# integers and floats are up-cast to string\n",
    "arr3 = np.array([12.5, \"python\", 14.7, 40])"
   ]
  },
  {
   "cell_type": "code",
   "execution_count": 25,
   "id": "718d3fc5",
   "metadata": {},
   "outputs": [
    {
     "name": "stdout",
     "output_type": "stream",
     "text": [
      "arr3[0] is <class 'numpy.str_'>\n",
      "arr3[1] is <class 'numpy.str_'>\n",
      "arr3[2] is <class 'numpy.str_'>\n",
      "arr3[3] is <class 'numpy.str_'>\n"
     ]
    }
   ],
   "source": [
    "for i in range(len(arr3)):\n",
    "    print(f\"arr3{[i]} is {type(arr3[i])}\")"
   ]
  },
  {
   "attachments": {},
   "cell_type": "markdown",
   "id": "a1cd3551",
   "metadata": {},
   "source": [
    "**Point:** with `dtype` keyword we can change type of the resulting Numpy array"
   ]
  },
  {
   "cell_type": "code",
   "execution_count": 26,
   "id": "e670e3e2",
   "metadata": {},
   "outputs": [
    {
     "data": {
      "text/plain": [
       "array([ 2,  4,  3, 17])"
      ]
     },
     "execution_count": 26,
     "metadata": {},
     "output_type": "execute_result"
    }
   ],
   "source": [
    "# change type of data to integer\n",
    "np.array([2.3, 4.1, 3., 17.0], dtype=\"int32\")"
   ]
  },
  {
   "attachments": {},
   "cell_type": "markdown",
   "id": "5d31f619",
   "metadata": {},
   "source": [
    "**Shape:** Shape of array"
   ]
  },
  {
   "cell_type": "code",
   "execution_count": 27,
   "id": "a18a3019",
   "metadata": {},
   "outputs": [
    {
     "data": {
      "text/plain": [
       "(4,)"
      ]
     },
     "execution_count": 27,
     "metadata": {},
     "output_type": "execute_result"
    }
   ],
   "source": [
    "arr3.shape"
   ]
  },
  {
   "attachments": {},
   "cell_type": "markdown",
   "id": "233ddcda",
   "metadata": {},
   "source": [
    "## Matrics in Numpy"
   ]
  },
  {
   "cell_type": "code",
   "execution_count": 28,
   "id": "f65b04fd",
   "metadata": {},
   "outputs": [],
   "source": [
    "mat = np.array([[2,3,4],\n",
    "                [6,5,3]])"
   ]
  },
  {
   "cell_type": "code",
   "execution_count": 29,
   "id": "0915b592",
   "metadata": {},
   "outputs": [
    {
     "data": {
      "text/plain": [
       "array([[2, 3, 4],\n",
       "       [6, 5, 3]])"
      ]
     },
     "execution_count": 29,
     "metadata": {},
     "output_type": "execute_result"
    }
   ],
   "source": [
    "mat"
   ]
  },
  {
   "cell_type": "code",
   "execution_count": 30,
   "id": "1cd5db7f",
   "metadata": {},
   "outputs": [
    {
     "name": "stdout",
     "output_type": "stream",
     "text": [
      "[[2 3 4]\n",
      " [6 5 3]]\n"
     ]
    }
   ],
   "source": [
    "print(mat)"
   ]
  },
  {
   "cell_type": "code",
   "execution_count": 31,
   "id": "2ce250dd",
   "metadata": {},
   "outputs": [
    {
     "data": {
      "text/plain": [
       "(2, 3)"
      ]
     },
     "execution_count": 31,
     "metadata": {},
     "output_type": "execute_result"
    }
   ],
   "source": [
    "mat.shape"
   ]
  },
  {
   "attachments": {},
   "cell_type": "markdown",
   "id": "954e1e0f",
   "metadata": {},
   "source": [
    "# ndarrays"
   ]
  },
  {
   "attachments": {
    "image.png": {
     "image/png": "[encoded data removed]"
    }
   },
   "cell_type": "markdown",
   "id": "9f74c5f9",
   "metadata": {},
   "source": [
    "![image.png](attachment:image.png)"
   ]
  },
  {
   "attachments": {},
   "cell_type": "markdown",
   "id": "22645fff",
   "metadata": {},
   "source": [
    "### 1D Array"
   ]
  },
  {
   "cell_type": "code",
   "execution_count": 32,
   "id": "a51b5a2d",
   "metadata": {},
   "outputs": [
    {
     "name": "stdout",
     "output_type": "stream",
     "text": [
      "[ 50 120  90  15  44   6   2]\n",
      "(7,)\n"
     ]
    }
   ],
   "source": [
    "arr_1D = np.array([50,120,90,15,44,6,2],dtype=int)\n",
    "print(arr_1D)\n",
    "print(arr_1D.shape)"
   ]
  },
  {
   "cell_type": "code",
   "execution_count": 33,
   "id": "f5289c84",
   "metadata": {},
   "outputs": [
    {
     "name": "stdout",
     "output_type": "stream",
     "text": [
      "arr[0] -------> 50\n",
      "arr[1] -------> 120\n",
      "arr[2] -------> 90\n",
      "arr[3] -------> 15\n",
      "arr[4] -------> 44\n",
      "arr[5] -------> 6\n",
      "arr[6] -------> 2\n"
     ]
    }
   ],
   "source": [
    "for i in range(len(arr_1D)):\n",
    "    print(f\"arr{[i]} -------> {arr_1D[i]}\")"
   ]
  },
  {
   "cell_type": "code",
   "execution_count": 34,
   "id": "3c65172d",
   "metadata": {},
   "outputs": [
    {
     "data": {
      "text/plain": [
       "50"
      ]
     },
     "execution_count": 34,
     "metadata": {},
     "output_type": "execute_result"
    }
   ],
   "source": [
    "#indexing\n",
    "arr_1D[0]"
   ]
  },
  {
   "attachments": {},
   "cell_type": "markdown",
   "id": "3490848f",
   "metadata": {},
   "source": [
    "### Slicing"
   ]
  },
  {
   "cell_type": "code",
   "execution_count": 35,
   "id": "45d7db36",
   "metadata": {},
   "outputs": [
    {
     "data": {
      "text/plain": [
       "array([ 50, 120,  90])"
      ]
     },
     "execution_count": 35,
     "metadata": {},
     "output_type": "execute_result"
    }
   ],
   "source": [
    "arr_1D[0:3]"
   ]
  },
  {
   "cell_type": "code",
   "execution_count": 36,
   "id": "9535e994",
   "metadata": {},
   "outputs": [
    {
     "data": {
      "text/plain": [
       "array([ 50, 120,  90,  15,  44,   6,   2])"
      ]
     },
     "execution_count": 36,
     "metadata": {},
     "output_type": "execute_result"
    }
   ],
   "source": [
    "arr_1D[:]"
   ]
  },
  {
   "attachments": {},
   "cell_type": "markdown",
   "id": "68e7b5af",
   "metadata": {},
   "source": [
    "### 2D Array\n"
   ]
  },
  {
   "cell_type": "code",
   "execution_count": 37,
   "id": "4934ac41",
   "metadata": {},
   "outputs": [
    {
     "name": "stdout",
     "output_type": "stream",
     "text": [
      "2D Array:\n",
      "[[ 50 120  90]\n",
      " [ 40  25  60]]\n"
     ]
    }
   ],
   "source": [
    "arr_2D = np.array([[50,120,90],\n",
    "                   [40,25,60]\n",
    "                   ])\n",
    "print(\"2D Array:\")\n",
    "print(arr_2D)"
   ]
  },
  {
   "cell_type": "code",
   "execution_count": 38,
   "id": "2a50ad77",
   "metadata": {},
   "outputs": [
    {
     "name": "stdout",
     "output_type": "stream",
     "text": [
      "Shape: (2, 3)\n"
     ]
    }
   ],
   "source": [
    "print(\"Shape:\",arr_2D.shape)"
   ]
  },
  {
   "cell_type": "code",
   "execution_count": 39,
   "id": "fb082aaf",
   "metadata": {},
   "outputs": [
    {
     "name": "stdout",
     "output_type": "stream",
     "text": [
      "arr_2D[0][0] -------> 50\n",
      "arr_2D[0][1] -------> 120\n",
      "arr_2D[0][2] -------> 90\n",
      "arr_2D[1][0] -------> 40\n",
      "arr_2D[1][1] -------> 25\n",
      "arr_2D[1][2] -------> 60\n"
     ]
    }
   ],
   "source": [
    "for i in range(arr_2D.shape[0]):\n",
    "    for j in range(arr_2D.shape[1]):\n",
    "        print(f\"arr_2D[{i}][{j}] -------> {arr_2D[i][j]}\")"
   ]
  },
  {
   "cell_type": "code",
   "execution_count": 40,
   "id": "3aa9fd0b",
   "metadata": {},
   "outputs": [
    {
     "data": {
      "text/plain": [
       "(2, 3)"
      ]
     },
     "execution_count": 40,
     "metadata": {},
     "output_type": "execute_result"
    }
   ],
   "source": [
    "arr_2D.shape"
   ]
  },
  {
   "cell_type": "code",
   "execution_count": 41,
   "id": "d44c963d",
   "metadata": {},
   "outputs": [
    {
     "data": {
      "text/plain": [
       "array([ 50, 120,  90])"
      ]
     },
     "execution_count": 41,
     "metadata": {},
     "output_type": "execute_result"
    }
   ],
   "source": [
    "arr_2D[0]"
   ]
  },
  {
   "attachments": {},
   "cell_type": "markdown",
   "id": "c863011a",
   "metadata": {},
   "source": [
    "## Slicing"
   ]
  },
  {
   "cell_type": "code",
   "execution_count": 42,
   "id": "c34d8376",
   "metadata": {},
   "outputs": [
    {
     "data": {
      "text/plain": [
       "90"
      ]
     },
     "execution_count": 42,
     "metadata": {},
     "output_type": "execute_result"
    }
   ],
   "source": [
    "arr_2D[0][2]"
   ]
  },
  {
   "cell_type": "code",
   "execution_count": 43,
   "id": "6b6579ea",
   "metadata": {},
   "outputs": [
    {
     "data": {
      "text/plain": [
       "90"
      ]
     },
     "execution_count": 43,
     "metadata": {},
     "output_type": "execute_result"
    }
   ],
   "source": [
    "arr_2D[0,2]"
   ]
  },
  {
   "attachments": {},
   "cell_type": "markdown",
   "id": "b29748ad",
   "metadata": {},
   "source": [
    "### 3D Array\n"
   ]
  },
  {
   "cell_type": "code",
   "execution_count": 44,
   "id": "7d4c5a3d",
   "metadata": {},
   "outputs": [
    {
     "name": "stdout",
     "output_type": "stream",
     "text": [
      "3D Array:\n",
      "[[[10 11 12]\n",
      "  [13 14 15]\n",
      "  [16 17 18]]\n",
      "\n",
      " [[20 21 22]\n",
      "  [23 24 25]\n",
      "  [26 27 28]]\n",
      "\n",
      " [[30 31 32]\n",
      "  [33 34 35]\n",
      "  [36 37 38]]]\n",
      "\n",
      "Shape: (3, 3, 3)\n"
     ]
    }
   ],
   "source": [
    "arr_3D = np.array([[[10, 11, 12], \n",
    "                    [13, 14, 15], \n",
    "                    [16, 17, 18]],\n",
    "\n",
    "                   [[20, 21, 22], \n",
    "                    [23, 24, 25], \n",
    "                    [26, 27, 28]],\n",
    "                    \n",
    "                   [[30, 31, 32], \n",
    "                    [33, 34, 35], \n",
    "                    [36, 37, 38]]\n",
    "                   ])\n",
    "print(\"3D Array:\")\n",
    "print(arr_3D)\n",
    "print(\"\\nShape:\",arr_3D.shape)"
   ]
  },
  {
   "cell_type": "code",
   "execution_count": 45,
   "id": "f01a5d37",
   "metadata": {},
   "outputs": [
    {
     "name": "stdout",
     "output_type": "stream",
     "text": [
      "-------------------------- Matrix 0 --------------------------\n",
      "Row 0\n",
      "arr_3D[0][0][0] -------> 10\n",
      "arr_3D[0][0][1] -------> 11\n",
      "arr_3D[0][0][2] -------> 12\n",
      "Row 1\n",
      "arr_3D[0][1][0] -------> 13\n",
      "arr_3D[0][1][1] -------> 14\n",
      "arr_3D[0][1][2] -------> 15\n",
      "Row 2\n",
      "arr_3D[0][2][0] -------> 16\n",
      "arr_3D[0][2][1] -------> 17\n",
      "arr_3D[0][2][2] -------> 18\n",
      "-------------------------- Matrix 1 --------------------------\n",
      "Row 0\n",
      "arr_3D[1][0][0] -------> 20\n",
      "arr_3D[1][0][1] -------> 21\n",
      "arr_3D[1][0][2] -------> 22\n",
      "Row 1\n",
      "arr_3D[1][1][0] -------> 23\n",
      "arr_3D[1][1][1] -------> 24\n",
      "arr_3D[1][1][2] -------> 25\n",
      "Row 2\n",
      "arr_3D[1][2][0] -------> 26\n",
      "arr_3D[1][2][1] -------> 27\n",
      "arr_3D[1][2][2] -------> 28\n",
      "-------------------------- Matrix 2 --------------------------\n",
      "Row 0\n",
      "arr_3D[2][0][0] -------> 30\n",
      "arr_3D[2][0][1] -------> 31\n",
      "arr_3D[2][0][2] -------> 32\n",
      "Row 1\n",
      "arr_3D[2][1][0] -------> 33\n",
      "arr_3D[2][1][1] -------> 34\n",
      "arr_3D[2][1][2] -------> 35\n",
      "Row 2\n",
      "arr_3D[2][2][0] -------> 36\n",
      "arr_3D[2][2][1] -------> 37\n",
      "arr_3D[2][2][2] -------> 38\n"
     ]
    }
   ],
   "source": [
    "for i in range(arr_3D.shape[0]):\n",
    "    print(f\"-------------------------- Matrix {i} --------------------------\")\n",
    "    for j in range(arr_3D.shape[1]):\n",
    "        print(f\"Row {j}\")\n",
    "        for k in range(arr_3D.shape[2]):\n",
    "            print(f\"arr_3D[{i}][{j}][{k}] -------> {arr_3D[i][j][k]}\")"
   ]
  },
  {
   "cell_type": "code",
   "execution_count": 46,
   "id": "dd872aa2",
   "metadata": {},
   "outputs": [
    {
     "data": {
      "text/plain": [
       "10"
      ]
     },
     "execution_count": 46,
     "metadata": {},
     "output_type": "execute_result"
    }
   ],
   "source": [
    "#indexing\n",
    "arr_3D[0][0][0]"
   ]
  },
  {
   "attachments": {},
   "cell_type": "markdown",
   "id": "4f5780d8",
   "metadata": {},
   "source": [
    "## Slicing"
   ]
  },
  {
   "cell_type": "code",
   "execution_count": 47,
   "id": "5f7fce78",
   "metadata": {},
   "outputs": [
    {
     "name": "stdout",
     "output_type": "stream",
     "text": [
      "[[13 14 15]\n",
      " [23 24 25]\n",
      " [33 34 35]]\n"
     ]
    }
   ],
   "source": [
    "print(arr_3D[:, 1]) # [[13 14 15]\n",
    "                #  [23 24 25]\n",
    "                #  [33 34 35]]"
   ]
  },
  {
   "cell_type": "code",
   "execution_count": 48,
   "id": "f272bed1",
   "metadata": {},
   "outputs": [
    {
     "data": {
      "text/plain": [
       "18"
      ]
     },
     "execution_count": 48,
     "metadata": {},
     "output_type": "execute_result"
    }
   ],
   "source": [
    "# 18 at matrix 1\n",
    "arr_3D[0,2,2]"
   ]
  },
  {
   "cell_type": "code",
   "execution_count": 49,
   "id": "af75a1ef",
   "metadata": {},
   "outputs": [
    {
     "data": {
      "text/plain": [
       "34"
      ]
     },
     "execution_count": 49,
     "metadata": {},
     "output_type": "execute_result"
    }
   ],
   "source": [
    "# 34 at matrix 3\n",
    "arr_3D[2,1,1]"
   ]
  },
  {
   "cell_type": "code",
   "execution_count": 50,
   "id": "1c4d2784",
   "metadata": {},
   "outputs": [
    {
     "data": {
      "text/plain": [
       "array([[13, 14, 15],\n",
       "       [23, 24, 25],\n",
       "       [33, 34, 35]])"
      ]
     },
     "execution_count": 50,
     "metadata": {},
     "output_type": "execute_result"
    }
   ],
   "source": [
    "# Second Row of each matrix\n",
    "arr_3D[:,1,:]"
   ]
  },
  {
   "cell_type": "code",
   "execution_count": 51,
   "id": "b94be7bd",
   "metadata": {},
   "outputs": [
    {
     "data": {
      "text/plain": [
       "array([[12, 15, 18],\n",
       "       [22, 25, 28],\n",
       "       [32, 35, 38]])"
      ]
     },
     "execution_count": 51,
     "metadata": {},
     "output_type": "execute_result"
    }
   ],
   "source": [
    "# third column of each matrix\n",
    "arr_3D[:,:,2]"
   ]
  },
  {
   "cell_type": "code",
   "execution_count": 52,
   "id": "1dc60da8",
   "metadata": {},
   "outputs": [
    {
     "data": {
      "text/plain": [
       "array([[24, 25],\n",
       "       [27, 28]])"
      ]
     },
     "execution_count": 52,
     "metadata": {},
     "output_type": "execute_result"
    }
   ],
   "source": [
    "arr_3D[1,1:3,1:3]"
   ]
  },
  {
   "attachments": {},
   "cell_type": "markdown",
   "id": "b9290129",
   "metadata": {},
   "source": [
    "# ***Methods***"
   ]
  },
  {
   "attachments": {},
   "cell_type": "markdown",
   "id": "5c7f44ab",
   "metadata": {},
   "source": [
    "##### **ndim**"
   ]
  },
  {
   "cell_type": "code",
   "execution_count": 53,
   "id": "424d7c86",
   "metadata": {},
   "outputs": [
    {
     "data": {
      "text/plain": [
       "3"
      ]
     },
     "execution_count": 53,
     "metadata": {},
     "output_type": "execute_result"
    }
   ],
   "source": [
    "arr_3D.ndim"
   ]
  },
  {
   "attachments": {},
   "cell_type": "markdown",
   "id": "efb2dcd8",
   "metadata": {},
   "source": [
    "##### **dtype**"
   ]
  },
  {
   "cell_type": "code",
   "execution_count": 54,
   "id": "c32cc1fc",
   "metadata": {},
   "outputs": [
    {
     "data": {
      "text/plain": [
       "dtype('int32')"
      ]
     },
     "execution_count": 54,
     "metadata": {},
     "output_type": "execute_result"
    }
   ],
   "source": [
    "arr_3D.dtype"
   ]
  },
  {
   "attachments": {},
   "cell_type": "markdown",
   "id": "7b565b18",
   "metadata": {},
   "source": [
    "##### **copy**"
   ]
  },
  {
   "cell_type": "code",
   "execution_count": 55,
   "id": "3c337616",
   "metadata": {},
   "outputs": [
    {
     "name": "stdout",
     "output_type": "stream",
     "text": [
      "[[80 81 82]\n",
      " [83 84 85]]\n",
      "[[80 81]\n",
      " [83 84]]\n"
     ]
    }
   ],
   "source": [
    "a = np.array([\n",
    "    [80, 81, 82], [83, 84, 85]\n",
    "    ])\n",
    "b = a[0:, 0:2]\n",
    "c = a[0:, 0:2].copy()\n",
    "print(a)\n",
    "print(b)"
   ]
  },
  {
   "attachments": {},
   "cell_type": "markdown",
   "id": "8ff679c2",
   "metadata": {},
   "source": [
    "##### **Reshaping**"
   ]
  },
  {
   "cell_type": "code",
   "execution_count": 56,
   "id": "0b3e8d3b",
   "metadata": {},
   "outputs": [
    {
     "data": {
      "text/plain": [
       "array([[12],\n",
       "       [15],\n",
       "       [18],\n",
       "       [22],\n",
       "       [25],\n",
       "       [28],\n",
       "       [32],\n",
       "       [35],\n",
       "       [38]])"
      ]
     },
     "execution_count": 56,
     "metadata": {},
     "output_type": "execute_result"
    }
   ],
   "source": [
    "# Reshape\n",
    "arr_3D[:,:,2].reshape(9,1)"
   ]
  },
  {
   "cell_type": "code",
   "execution_count": 57,
   "id": "7e252861",
   "metadata": {},
   "outputs": [],
   "source": [
    "arr6 = np.array([1,2,3])"
   ]
  },
  {
   "cell_type": "code",
   "execution_count": 58,
   "id": "b0e8ef59",
   "metadata": {},
   "outputs": [
    {
     "data": {
      "text/plain": [
       "1"
      ]
     },
     "execution_count": 58,
     "metadata": {},
     "output_type": "execute_result"
    }
   ],
   "source": [
    "arr6.ndim"
   ]
  },
  {
   "cell_type": "code",
   "execution_count": 59,
   "id": "aadef7f0",
   "metadata": {},
   "outputs": [],
   "source": [
    "arr6 = arr6.reshape(3,1)"
   ]
  },
  {
   "cell_type": "code",
   "execution_count": 60,
   "id": "7a3e7b28",
   "metadata": {},
   "outputs": [
    {
     "data": {
      "text/plain": [
       "array([[1],\n",
       "       [2],\n",
       "       [3]])"
      ]
     },
     "execution_count": 60,
     "metadata": {},
     "output_type": "execute_result"
    }
   ],
   "source": [
    "arr6"
   ]
  },
  {
   "cell_type": "code",
   "execution_count": 61,
   "id": "b7d2e2f5",
   "metadata": {},
   "outputs": [
    {
     "data": {
      "text/plain": [
       "2"
      ]
     },
     "execution_count": 61,
     "metadata": {},
     "output_type": "execute_result"
    }
   ],
   "source": [
    "arr6.ndim"
   ]
  },
  {
   "attachments": {},
   "cell_type": "markdown",
   "id": "d49df011",
   "metadata": {},
   "source": [
    "##### **np.max()**"
   ]
  },
  {
   "cell_type": "code",
   "execution_count": 62,
   "id": "b57fa314",
   "metadata": {},
   "outputs": [
    {
     "data": {
      "text/plain": [
       "38"
      ]
     },
     "execution_count": 62,
     "metadata": {},
     "output_type": "execute_result"
    }
   ],
   "source": [
    "np.max(arr_3D)"
   ]
  },
  {
   "attachments": {},
   "cell_type": "markdown",
   "id": "1077295e",
   "metadata": {},
   "source": [
    "##### **np.min()**"
   ]
  },
  {
   "cell_type": "code",
   "execution_count": 63,
   "id": "3b60cf1f",
   "metadata": {},
   "outputs": [
    {
     "data": {
      "text/plain": [
       "10"
      ]
     },
     "execution_count": 63,
     "metadata": {},
     "output_type": "execute_result"
    }
   ],
   "source": [
    "np.min(arr_3D)"
   ]
  },
  {
   "cell_type": "code",
   "execution_count": 64,
   "id": "a540b736",
   "metadata": {},
   "outputs": [
    {
     "data": {
      "text/plain": [
       "648"
      ]
     },
     "execution_count": 64,
     "metadata": {},
     "output_type": "execute_result"
    }
   ],
   "source": [
    "np.sum(arr_3D)"
   ]
  },
  {
   "attachments": {},
   "cell_type": "markdown",
   "id": "cead33f9",
   "metadata": {},
   "source": [
    "##### **np.min()**"
   ]
  },
  {
   "cell_type": "code",
   "execution_count": 65,
   "id": "e77700dc",
   "metadata": {},
   "outputs": [
    {
     "data": {
      "text/plain": [
       "24.0"
      ]
     },
     "execution_count": 65,
     "metadata": {},
     "output_type": "execute_result"
    }
   ],
   "source": [
    "np.mean(arr_3D)"
   ]
  },
  {
   "attachments": {},
   "cell_type": "markdown",
   "id": "a626f4a9",
   "metadata": {},
   "source": [
    "##### **np.size()**"
   ]
  },
  {
   "cell_type": "code",
   "execution_count": 66,
   "id": "bcb387af",
   "metadata": {},
   "outputs": [
    {
     "data": {
      "text/plain": [
       "27"
      ]
     },
     "execution_count": 66,
     "metadata": {},
     "output_type": "execute_result"
    }
   ],
   "source": [
    "np.size(arr_3D)"
   ]
  },
  {
   "attachments": {},
   "cell_type": "markdown",
   "id": "4aae863e",
   "metadata": {},
   "source": [
    "##### **np.shape()**"
   ]
  },
  {
   "cell_type": "code",
   "execution_count": 67,
   "id": "7b8f70be",
   "metadata": {},
   "outputs": [
    {
     "data": {
      "text/plain": [
       "(3, 3, 3)"
      ]
     },
     "execution_count": 67,
     "metadata": {},
     "output_type": "execute_result"
    }
   ],
   "source": [
    "np.shape(arr_3D)"
   ]
  },
  {
   "attachments": {},
   "cell_type": "markdown",
   "id": "7e8e1a98",
   "metadata": {},
   "source": [
    "##### **np.zeros()**"
   ]
  },
  {
   "cell_type": "code",
   "execution_count": 68,
   "id": "5578a732",
   "metadata": {},
   "outputs": [
    {
     "name": "stdout",
     "output_type": "stream",
     "text": [
      "[[0 0 0]\n",
      " [0 0 0]]\n"
     ]
    }
   ],
   "source": [
    "arr_zero = np.zeros((2, 3), dtype=np.int32)\n",
    "print(arr_zero)"
   ]
  },
  {
   "attachments": {},
   "cell_type": "markdown",
   "id": "50fbefeb",
   "metadata": {},
   "source": [
    "##### **np.ones()**"
   ]
  },
  {
   "cell_type": "code",
   "execution_count": 69,
   "id": "d208b1d3",
   "metadata": {},
   "outputs": [
    {
     "name": "stdout",
     "output_type": "stream",
     "text": [
      "[[[1 1 1 1]\n",
      "  [1 1 1 1]\n",
      "  [1 1 1 1]]\n",
      "\n",
      " [[1 1 1 1]\n",
      "  [1 1 1 1]\n",
      "  [1 1 1 1]]]\n"
     ]
    }
   ],
   "source": [
    "arr_one = np.ones((2, 3, 4), dtype=np.int32)\n",
    "print(arr_one)"
   ]
  },
  {
   "attachments": {},
   "cell_type": "markdown",
   "id": "14b1ab6c",
   "metadata": {},
   "source": [
    "##### **np.arange()**"
   ]
  },
  {
   "cell_type": "code",
   "execution_count": 70,
   "id": "71bb3b5d",
   "metadata": {},
   "outputs": [
    {
     "data": {
      "text/plain": [
       "array([ 2,  4,  6,  8, 10, 12, 14, 16, 18])"
      ]
     },
     "execution_count": 70,
     "metadata": {},
     "output_type": "execute_result"
    }
   ],
   "source": [
    "np.arange(2,20,2)"
   ]
  },
  {
   "attachments": {},
   "cell_type": "markdown",
   "id": "f6620624",
   "metadata": {},
   "source": [
    "##### **np.linspace()**"
   ]
  },
  {
   "cell_type": "code",
   "execution_count": 71,
   "id": "257cfb95",
   "metadata": {},
   "outputs": [
    {
     "data": {
      "text/plain": [
       "array([0.        , 0.05263158, 0.10526316, 0.15789474, 0.21052632,\n",
       "       0.26315789, 0.31578947, 0.36842105, 0.42105263, 0.47368421,\n",
       "       0.52631579, 0.57894737, 0.63157895, 0.68421053, 0.73684211,\n",
       "       0.78947368, 0.84210526, 0.89473684, 0.94736842, 1.        ])"
      ]
     },
     "execution_count": 71,
     "metadata": {},
     "output_type": "execute_result"
    }
   ],
   "source": [
    "np.linspace(0,1,20)"
   ]
  },
  {
   "attachments": {},
   "cell_type": "markdown",
   "id": "7e9c6ba8",
   "metadata": {},
   "source": [
    "##### **Random.random()**"
   ]
  },
  {
   "cell_type": "code",
   "execution_count": 72,
   "id": "07deed88",
   "metadata": {},
   "outputs": [
    {
     "data": {
      "text/plain": [
       "array([0.46190761, 0.80935451, 0.36433346])"
      ]
     },
     "execution_count": 72,
     "metadata": {},
     "output_type": "execute_result"
    }
   ],
   "source": [
    "np.random.random(3)"
   ]
  },
  {
   "attachments": {},
   "cell_type": "markdown",
   "id": "5c254400",
   "metadata": {},
   "source": [
    "##### **Random.randint()**"
   ]
  },
  {
   "cell_type": "code",
   "execution_count": 73,
   "id": "00460ea9",
   "metadata": {},
   "outputs": [
    {
     "data": {
      "text/plain": [
       "array([[[8, 7, 8, 3],\n",
       "        [9, 8, 4, 2],\n",
       "        [9, 5, 5, 6]],\n",
       "\n",
       "       [[8, 5, 9, 2],\n",
       "        [7, 5, 9, 5],\n",
       "        [6, 6, 9, 5]]])"
      ]
     },
     "execution_count": 73,
     "metadata": {},
     "output_type": "execute_result"
    }
   ],
   "source": [
    "out_arr = np.random.randint(2, 10, (2, 3, 4))\n",
    "out_arr"
   ]
  },
  {
   "attachments": {},
   "cell_type": "markdown",
   "id": "62998893",
   "metadata": {},
   "source": [
    "##### **np.ravel()**"
   ]
  },
  {
   "cell_type": "code",
   "execution_count": 77,
   "id": "f25918c0",
   "metadata": {},
   "outputs": [],
   "source": [
    "arr_3D = np.array([[1,2,3],\n",
    "                   [4,5,6]\n",
    "                   ])"
   ]
  },
  {
   "cell_type": "code",
   "execution_count": 75,
   "id": "57f6ea7d",
   "metadata": {},
   "outputs": [],
   "source": [
    "#np.ravel(arr_3D)"
   ]
  },
  {
   "attachments": {},
   "cell_type": "markdown",
   "id": "b03e4125",
   "metadata": {},
   "source": [
    "##### **.flatten()**"
   ]
  },
  {
   "cell_type": "code",
   "execution_count": 78,
   "id": "b231f6f0",
   "metadata": {},
   "outputs": [
    {
     "data": {
      "text/plain": [
       "array([1, 2, 3, 4, 5, 6])"
      ]
     },
     "execution_count": 78,
     "metadata": {},
     "output_type": "execute_result"
    }
   ],
   "source": [
    "arr_3D.flatten()"
   ]
  },
  {
   "cell_type": "code",
   "execution_count": 3,
   "id": "facdffc8",
   "metadata": {},
   "outputs": [],
   "source": [
    "import numpy as np\n",
    "import sys\n",
    "l = [1,2,3]\n",
    "arr = np.array(l)\n",
    "sys.getsizeof(arr)\n",
    "size_list_pointer = sys.getsizeof(l)\n",
    "size_element = sys.getsizeof(l[2])\n",
    "elements_all_size = size_element * len(l)\n",
    "total = elements_all_size + size_list_pointer\n",
    "total"
   ]
  }
 ],
 "metadata": {
  "kernelspec": {
   "display_name": "Python 3 (Spyder)",
   "language": "python3",
   "name": "python3"
  },
  "language_info": {
   "codemirror_mode": {
    "name": "ipython",
    "version": 3
   },
   "file_extension": ".py",
   "mimetype": "text/x-python",
   "name": "python",
   "nbconvert_exporter": "python",
   "pygments_lexer": "ipython3",
   "version": "3.10.11"
  }
 },
 "nbformat": 4,
 "nbformat_minor": 5
}
