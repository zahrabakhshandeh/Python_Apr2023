{
 "cells": [
  {
   "attachments": {},
   "cell_type": "markdown",
   "metadata": {},
   "source": [
    "### Session13 (OOP)"
   ]
  },
  {
   "cell_type": "code",
   "execution_count": null,
   "metadata": {},
   "outputs": [],
   "source": [
    "### 3 functions\n",
    "### function1 ===> increment ===> count ==> +1\n",
    "### function2 ===> decrement ===> count ==> -1\n",
    "### function3 ===> reset ===> count ==> 0"
   ]
  },
  {
   "cell_type": "code",
   "execution_count": 20,
   "metadata": {},
   "outputs": [],
   "source": [
    "def increment():\n",
    "    global count\n",
    "    count += 5\n",
    "    print(f\"count in now: {count}\")"
   ]
  },
  {
   "cell_type": "code",
   "execution_count": 21,
   "metadata": {},
   "outputs": [],
   "source": [
    "def decrement():\n",
    "    global count\n",
    "    count -= 1\n",
    "    print(f\"count in now: {count}\")"
   ]
  },
  {
   "cell_type": "code",
   "execution_count": 22,
   "metadata": {},
   "outputs": [],
   "source": [
    "def reset():\n",
    "    global count\n",
    "    count = 0\n",
    "    print(f\"count in now: {count}\")"
   ]
  },
  {
   "cell_type": "code",
   "execution_count": 23,
   "metadata": {},
   "outputs": [
    {
     "name": "stdout",
     "output_type": "stream",
     "text": [
      "count in now: 5\n",
      "5\n"
     ]
    }
   ],
   "source": [
    "count = 0\n",
    "increment() ## count = 5\n",
    "print(count) ## 5"
   ]
  },
  {
   "cell_type": "code",
   "execution_count": 24,
   "metadata": {},
   "outputs": [
    {
     "name": "stdout",
     "output_type": "stream",
     "text": [
      "count in now: 4\n"
     ]
    }
   ],
   "source": [
    "decrement() ## count = 4"
   ]
  },
  {
   "cell_type": "code",
   "execution_count": 25,
   "metadata": {},
   "outputs": [
    {
     "name": "stdout",
     "output_type": "stream",
     "text": [
      "count in now: 3\n"
     ]
    }
   ],
   "source": [
    "decrement() ## count = 3"
   ]
  },
  {
   "cell_type": "code",
   "execution_count": 26,
   "metadata": {},
   "outputs": [
    {
     "name": "stdout",
     "output_type": "stream",
     "text": [
      "count in now: 0\n"
     ]
    }
   ],
   "source": [
    "reset() ## count = 0"
   ]
  },
  {
   "cell_type": "code",
   "execution_count": 28,
   "metadata": {},
   "outputs": [
    {
     "name": "stdout",
     "output_type": "stream",
     "text": [
      "count in now: 10\n"
     ]
    }
   ],
   "source": [
    "increment() ## count = 5\n",
    "increment() ## count = 10"
   ]
  },
  {
   "cell_type": "code",
   "execution_count": 35,
   "metadata": {},
   "outputs": [],
   "source": [
    "def function1():\n",
    "    global x\n",
    "    x += 1\n",
    "    print(x)"
   ]
  },
  {
   "cell_type": "code",
   "execution_count": 36,
   "metadata": {},
   "outputs": [
    {
     "name": "stdout",
     "output_type": "stream",
     "text": [
      "1\n",
      "1\n"
     ]
    }
   ],
   "source": [
    "x = 0\n",
    "function1()\n",
    "print(x)"
   ]
  },
  {
   "cell_type": "code",
   "execution_count": 70,
   "metadata": {},
   "outputs": [],
   "source": [
    "class Student:\n",
    "    def __init__(self, f_name1, l_name1, scores, stu_num1):\n",
    "        self.f_name = f_name1\n",
    "        self.l_name = l_name1\n",
    "        self.score = scores\n",
    "        self.stu_num = stu_num1\n",
    "    \n",
    "    def function1(self, num): # method\n",
    "        print(f\"student_{num}\")\n"
   ]
  },
  {
   "cell_type": "code",
   "execution_count": 71,
   "metadata": {},
   "outputs": [
    {
     "name": "stdout",
     "output_type": "stream",
     "text": [
      "student_2\n"
     ]
    }
   ],
   "source": [
    "s1 = Student(\"A\", \"G\", [12, 17, 19], \"1234\")\n",
    "s1.function1(2)"
   ]
  },
  {
   "cell_type": "code",
   "execution_count": 72,
   "metadata": {},
   "outputs": [
    {
     "name": "stdout",
     "output_type": "stream",
     "text": [
      "student_3\n"
     ]
    }
   ],
   "source": [
    "s2 = Student(\"A\", \"G\", [12, 17, 19], \"1234\")\n",
    "s2.function1(3)"
   ]
  },
  {
   "cell_type": "code",
   "execution_count": 51,
   "metadata": {},
   "outputs": [
    {
     "name": "stdout",
     "output_type": "stream",
     "text": [
      "[<__main__.Student object at 0x7fdf340a4350>, <__main__.Student object at 0x7fdf2c33e0d0>]\n",
      "2\n"
     ]
    }
   ],
   "source": [
    "students = []\n",
    "for i in range(2):\n",
    "    first_name = input(\"first name: \")\n",
    "    last_name = input(\"last name: \")\n",
    "    score = float(input(\"score: \"))\n",
    "    num = input(\"student number: \")\n",
    "    obj = Student(first_name, last_name, score, num)\n",
    "    students.append(obj)\n",
    "print(students)\n",
    "print(len(students))"
   ]
  },
  {
   "cell_type": "code",
   "execution_count": 58,
   "metadata": {},
   "outputs": [
    {
     "name": "stdout",
     "output_type": "stream",
     "text": [
      "a b 17.0\n"
     ]
    }
   ],
   "source": [
    "if students[0].score > students[1].score:\n",
    "    print(students[0].f_name, students[0].l_name, students[0].score)\n",
    "else:\n",
    "    print(students[1].f_name, students[1].l_name)"
   ]
  },
  {
   "cell_type": "code",
   "execution_count": 48,
   "metadata": {},
   "outputs": [
    {
     "data": {
      "text/plain": [
       "'B2'"
      ]
     },
     "execution_count": 48,
     "metadata": {},
     "output_type": "execute_result"
    }
   ],
   "source": [
    "s2 = Student(\"A2\", \"B2\", 18, \"S145\")\n",
    "s2.l_name"
   ]
  },
  {
   "cell_type": "code",
   "execution_count": 98,
   "metadata": {},
   "outputs": [],
   "source": [
    "class Counter:\n",
    "    def __init__(self, count = 0):\n",
    "        self.count = count ### 1\n",
    "    ### 2 ===> methodes\n",
    "    def incerement(self):\n",
    "        self.count += 1\n",
    "        print(f\"Count is : {self.count}\")\n",
    "    def decrement(self):\n",
    "        self.count -= 1\n",
    "        print(f\"Count is : {self.count}\")\n",
    "    def reset(self):\n",
    "        self.count = 0\n",
    "        print(f\"Count is : {self.count}\")"
   ]
  },
  {
   "cell_type": "code",
   "execution_count": 99,
   "metadata": {},
   "outputs": [
    {
     "name": "stdout",
     "output_type": "stream",
     "text": [
      "Count is : 1\n"
     ]
    }
   ],
   "source": [
    "obj1 = Counter()\n",
    "obj1.incerement()\n",
    "obj1.count"
   ]
  },
  {
   "cell_type": "code",
   "execution_count": 86,
   "metadata": {},
   "outputs": [
    {
     "name": "stdout",
     "output_type": "stream",
     "text": [
      "Count is : 3\n"
     ]
    }
   ],
   "source": [
    "obj1.incerement()"
   ]
  },
  {
   "cell_type": "code",
   "execution_count": 100,
   "metadata": {},
   "outputs": [
    {
     "name": "stdout",
     "output_type": "stream",
     "text": [
      "Count is : 201\n"
     ]
    }
   ],
   "source": [
    "obj2 = Counter(200)\n",
    "obj2.incerement()"
   ]
  },
  {
   "cell_type": "code",
   "execution_count": 88,
   "metadata": {},
   "outputs": [
    {
     "name": "stdout",
     "output_type": "stream",
     "text": [
      "Count is : 0\n"
     ]
    }
   ],
   "source": [
    "obj2.decrement()"
   ]
  },
  {
   "cell_type": "code",
   "execution_count": 94,
   "metadata": {},
   "outputs": [
    {
     "ename": "NameError",
     "evalue": "name 'self' is not defined",
     "output_type": "error",
     "traceback": [
      "\u001b[0;31m---------------------------------------------------------------------------\u001b[0m",
      "\u001b[0;31mNameError\u001b[0m                                 Traceback (most recent call last)",
      "Cell \u001b[0;32mIn[94], line 1\u001b[0m\n\u001b[0;32m----> 1\u001b[0m obj2\u001b[39m.\u001b[39mincerement(\u001b[39mself\u001b[39;49m)\n",
      "\u001b[0;31mNameError\u001b[0m: name 'self' is not defined"
     ]
    }
   ],
   "source": [
    "obj2.incerement(self)"
   ]
  },
  {
   "cell_type": "code",
   "execution_count": 91,
   "metadata": {},
   "outputs": [
    {
     "name": "stdout",
     "output_type": "stream",
     "text": [
      "Count is : 0\n"
     ]
    }
   ],
   "source": [
    "obj2.reset()"
   ]
  },
  {
   "cell_type": "code",
   "execution_count": 92,
   "metadata": {},
   "outputs": [
    {
     "data": {
      "text/plain": [
       "0"
      ]
     },
     "execution_count": 92,
     "metadata": {},
     "output_type": "execute_result"
    }
   ],
   "source": [
    "obj2.count"
   ]
  },
  {
   "cell_type": "code",
   "execution_count": 93,
   "metadata": {},
   "outputs": [
    {
     "data": {
      "text/plain": [
       "3"
      ]
     },
     "execution_count": 93,
     "metadata": {},
     "output_type": "execute_result"
    }
   ],
   "source": [
    "obj1.count"
   ]
  }
 ],
 "metadata": {
  "kernelspec": {
   "display_name": "Python 3",
   "language": "python",
   "name": "python3"
  },
  "language_info": {
   "codemirror_mode": {
    "name": "ipython",
    "version": 3
   },
   "file_extension": ".py",
   "mimetype": "text/x-python",
   "name": "python",
   "nbconvert_exporter": "python",
   "pygments_lexer": "ipython3",
   "version": "3.11.2"
  },
  "orig_nbformat": 4
 },
 "nbformat": 4,
 "nbformat_minor": 2
}
