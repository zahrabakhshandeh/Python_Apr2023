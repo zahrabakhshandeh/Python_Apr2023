{
 "cells": [
  {
   "attachments": {},
   "cell_type": "markdown",
   "metadata": {},
   "source": [
    "### Session14 (OOP Project)"
   ]
  },
  {
   "cell_type": "code",
   "execution_count": 4,
   "metadata": {},
   "outputs": [],
   "source": [
    "class Student:\n",
    "    def __init__(self, name1, score):\n",
    "        self.name = name1\n",
    "        self.score = score\n",
    "    def f1(self, stu_num):\n",
    "        print(f\"hi, {stu_num}\")\n"
   ]
  },
  {
   "cell_type": "code",
   "execution_count": 5,
   "metadata": {},
   "outputs": [
    {
     "name": "stdout",
     "output_type": "stream",
     "text": [
      "hi, 123\n"
     ]
    }
   ],
   "source": [
    "s1 = Student(\"A\", 12.6)\n",
    "s1.name\n",
    "s1.f1(123)"
   ]
  },
  {
   "attachments": {},
   "cell_type": "markdown",
   "metadata": {},
   "source": [
    "### OOP Project (ShoppingCart)"
   ]
  },
  {
   "cell_type": "code",
   "execution_count": null,
   "metadata": {},
   "outputs": [],
   "source": [
    "### add, remove, edit, display, search"
   ]
  },
  {
   "cell_type": "code",
   "execution_count": 14,
   "metadata": {},
   "outputs": [],
   "source": [
    "class Product:\n",
    "    def __init__(self, p_id, name, price, number, discount = 0):\n",
    "        self.p_id = p_id\n",
    "        self.name = name\n",
    "        self.number = number\n",
    "        self.price = price\n",
    "        self.discount = discount\n",
    "    def get_name(self):\n",
    "        print(f\"name of product: {self.name}\")\n",
    "\n",
    "    def get_price(self):\n",
    "        print(f\"name of product: {self.price}\")\n",
    "\n",
    "    def total_price(self):\n",
    "        t_price = self.price * self.number\n",
    "        print(f\"total price: {t_price}\")\n",
    "    \n",
    "    def get_all_info(self):\n",
    "        print(f\"name of product: {self.name}\")\n",
    "        print(f\"p_id of {self.name}: {self.p_id}\")\n",
    "        print(f\"number of {self.name}: {self.number}\")\n",
    "        print(f\"price of {self.name}: {self.price}\")\n",
    "        print(f\"discount of {self.name}: {self.discount}\")\n",
    "        print(\"-\" * 50)"
   ]
  },
  {
   "cell_type": "code",
   "execution_count": 56,
   "metadata": {},
   "outputs": [],
   "source": [
    "class Cart:\n",
    "    def __init__(self):\n",
    "        self.products = []\n",
    "    \n",
    "    def find_index(self, id):\n",
    "        for i, item in enumerate(self.products):\n",
    "            if item.p_id == id:\n",
    "                return i\n",
    "        return -1\n",
    "    \n",
    "    def add_product(self, product):\n",
    "        index = self.find_index(product.p_id)\n",
    "        if index == -1:\n",
    "            self.products.append(product)\n",
    "            print(\"added\")\n",
    "        else:\n",
    "            print(f\"Product with p_id = {product.p_id} exist\")\n",
    "    \n",
    "    def display(self):\n",
    "        for p in self.products:\n",
    "            Product.get_all_info(p)"
   ]
  },
  {
   "cell_type": "code",
   "execution_count": 57,
   "metadata": {},
   "outputs": [
    {
     "name": "stdout",
     "output_type": "stream",
     "text": [
      "added\n",
      "name of product: p1\n",
      "p_id of p1: 1\n",
      "number of p1: 1\n",
      "price of p1: 1\n",
      "discount of p1: 1\n",
      "--------------------------------------------------\n",
      "added\n",
      "name of product: p1\n",
      "p_id of p1: 1\n",
      "number of p1: 1\n",
      "price of p1: 1\n",
      "discount of p1: 1\n",
      "--------------------------------------------------\n",
      "name of product: p2\n",
      "p_id of p2: 2\n",
      "number of p2: 2\n",
      "price of p2: 100\n",
      "discount of p2: 10\n",
      "--------------------------------------------------\n"
     ]
    }
   ],
   "source": [
    "## create a cart\n",
    "cart1 = Cart()\n",
    "while True:\n",
    "    user = input(\"Please select an option: add/remove/edit/search/exit\")\n",
    "    user = user.lower()\n",
    "    if user == \"add\":\n",
    "        product_info = input(\"enter info of your product: \")\n",
    "        info = product_info.split()\n",
    "        p1 = Product(info[0], info[1], int(info[2]), int(info[3]), int(info[4]))\n",
    "        cart1.add_product(p1)\n",
    "    elif user == \"remove\":\n",
    "        pass\n",
    "    elif user == \"edit\":\n",
    "        pass\n",
    "    elif user == \"search\":\n",
    "        pass\n",
    "    elif user == \"display\":\n",
    "        cart1.display()\n",
    "    elif user == \"\":\n",
    "        pass\n",
    "    elif user == \"exit\":\n",
    "        break\n",
    "    else:\n",
    "        print(f\"{user}: command not found!\")"
   ]
  },
  {
   "cell_type": "code",
   "execution_count": 43,
   "metadata": {},
   "outputs": [],
   "source": [
    "cart2 = Cart()"
   ]
  },
  {
   "cell_type": "code",
   "execution_count": 44,
   "metadata": {},
   "outputs": [
    {
     "name": "stdout",
     "output_type": "stream",
     "text": [
      "added\n"
     ]
    }
   ],
   "source": [
    "p1 = Product(\"12\", \"p1\", 12, 10, 1)\n",
    "cart2.add_product(p1)"
   ]
  },
  {
   "cell_type": "code",
   "execution_count": 45,
   "metadata": {},
   "outputs": [
    {
     "name": "stdout",
     "output_type": "stream",
     "text": [
      "Product with p_id = 12 exist\n"
     ]
    }
   ],
   "source": [
    "cart2.add_product(p1)"
   ]
  },
  {
   "cell_type": "code",
   "execution_count": 38,
   "metadata": {},
   "outputs": [
    {
     "data": {
      "text/plain": [
       "[<__main__.Product at 0x7fb62c8a92d0>,\n",
       " <__main__.Product at 0x7fb60b220590>,\n",
       " <__main__.Product at 0x7fb60b2529d0>]"
      ]
     },
     "execution_count": 38,
     "metadata": {},
     "output_type": "execute_result"
    }
   ],
   "source": [
    "cart2.products"
   ]
  },
  {
   "cell_type": "code",
   "execution_count": 47,
   "metadata": {},
   "outputs": [
    {
     "data": {
      "text/plain": [
       "-1"
      ]
     },
     "execution_count": 47,
     "metadata": {},
     "output_type": "execute_result"
    }
   ],
   "source": [
    "cart2.find_index(\"1000\")"
   ]
  },
  {
   "cell_type": "code",
   "execution_count": null,
   "metadata": {},
   "outputs": [],
   "source": []
  }
 ],
 "metadata": {
  "kernelspec": {
   "display_name": "Python 3",
   "language": "python",
   "name": "python3"
  },
  "language_info": {
   "codemirror_mode": {
    "name": "ipython",
    "version": 3
   },
   "file_extension": ".py",
   "mimetype": "text/x-python",
   "name": "python",
   "nbconvert_exporter": "python",
   "pygments_lexer": "ipython3",
   "version": "3.11.2"
  },
  "orig_nbformat": 4
 },
 "nbformat": 4,
 "nbformat_minor": 2
}
