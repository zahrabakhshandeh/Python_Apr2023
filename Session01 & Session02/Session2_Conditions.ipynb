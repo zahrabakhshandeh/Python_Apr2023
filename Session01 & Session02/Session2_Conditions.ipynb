{
 "cells": [
  {
   "cell_type": "markdown",
   "metadata": {},
   "source": [
    "<div style=\"color: darkblue;text-align:center;\"> \n",
    "    <h1>Session 02 (Conditions)</h1>\n",
    "    <hr>\n",
    "</div>\n"
   ]
  },
  {
   "cell_type": "markdown",
   "metadata": {},
   "source": [
    "# review"
   ]
  },
  {
   "cell_type": "code",
   "execution_count": 1,
   "metadata": {},
   "outputs": [],
   "source": [
    "# Variable name\n",
    "## camelCase\n",
    "firstName = \"Ali\"\n",
    "\n",
    "## PascalCase\n",
    "FirstName = \"Ali\"\n",
    "\n",
    "## snake_case \n",
    "first_name = \"Ali\""
   ]
  },
  {
   "cell_type": "code",
   "execution_count": 2,
   "metadata": {},
   "outputs": [],
   "source": [
    "# Variable type\n",
    "## int\n",
    "number = 120\n",
    "\n",
    "## float\n",
    "score = 18.9\n",
    "\n",
    "## str\n",
    "world = \"python\"\n",
    "\n",
    "## bool\n",
    "flag = True"
   ]
  },
  {
   "cell_type": "code",
   "execution_count": 3,
   "metadata": {},
   "outputs": [
    {
     "data": {
      "text/plain": [
       "12"
      ]
     },
     "execution_count": 3,
     "metadata": {},
     "output_type": "execute_result"
    }
   ],
   "source": [
    "# Casting ===> use int(), str(), float(), bool()\n",
    "num = 12.7\n",
    "int(12.7)"
   ]
  },
  {
   "cell_type": "markdown",
   "metadata": {},
   "source": [
    "# Example"
   ]
  },
  {
   "cell_type": "code",
   "execution_count": 12,
   "metadata": {},
   "outputs": [
    {
     "name": "stdout",
     "output_type": "stream",
     "text": [
      "12.56\n"
     ]
    }
   ],
   "source": [
    "r = float(input(\"Please enter a number\"))\n",
    "area = 3.14 * r ** 2\n",
    "print(area)"
   ]
  },
  {
   "cell_type": "markdown",
   "metadata": {},
   "source": [
    "# input"
   ]
  },
  {
   "cell_type": "code",
   "execution_count": 11,
   "metadata": {},
   "outputs": [
    {
     "name": "stdout",
     "output_type": "stream",
     "text": [
      "5\n",
      "<class 'str'>\n"
     ]
    }
   ],
   "source": [
    "num1 = int(input(\"Please enter a number\"))\n",
    "num2 = int(input(\"Please enter a number\"))\n",
    "print(num1 + num2)\n",
    "print(type(num1))\n"
   ]
  },
  {
   "cell_type": "markdown",
   "metadata": {},
   "source": [
    "# Conditions"
   ]
  },
  {
   "cell_type": "code",
   "execution_count": 16,
   "metadata": {},
   "outputs": [
    {
     "name": "stdout",
     "output_type": "stream",
     "text": [
      "False\n"
     ]
    }
   ],
   "source": [
    "# >, <, >=, <=, ==, !=\n",
    "num1 = 100\n",
    "num2 = 20\n",
    "print(num1 < num2)"
   ]
  },
  {
   "cell_type": "code",
   "execution_count": 17,
   "metadata": {},
   "outputs": [],
   "source": [
    "# if\n",
    "if num1 < num2:\n",
    "    print(num1)"
   ]
  },
  {
   "cell_type": "code",
   "execution_count": 22,
   "metadata": {},
   "outputs": [
    {
     "name": "stdout",
     "output_type": "stream",
     "text": [
      "equal\n"
     ]
    }
   ],
   "source": [
    "# if True\n",
    "# if False\n",
    "num1 = int(input(\"number1: \")) # 20\n",
    "num2 = int(input(\"number2: \")) # 10\n",
    "if num1 > num2: ### .... ===> True\n",
    "    print(num1) ## print\n",
    "if num2 > num1: ## ... ===> False\n",
    "    print(num2)\n",
    "if num1 == num2: ## ... ==> False\n",
    "    print(\"equal\")"
   ]
  },
  {
   "cell_type": "code",
   "execution_count": 23,
   "metadata": {},
   "outputs": [
    {
     "name": "stdout",
     "output_type": "stream",
     "text": [
      "5\n"
     ]
    }
   ],
   "source": [
    "# if, elif, else\n",
    "# elif, elseif ===> elif\n",
    "\n",
    "num1 = int(input(\"number1: \")) # 20\n",
    "num2 = int(input(\"number2: \")) # 10\n",
    "if num1 > num2: ### .... ===> True\n",
    "    print(num1) ## print\n",
    "elif num2 > num1: ## ... ===> False\n",
    "    print(num2)\n",
    "else: ## ... ==> False\n",
    "    print(\"equal\")"
   ]
  },
  {
   "cell_type": "code",
   "execution_count": null,
   "metadata": {},
   "outputs": [],
   "source": [
    "\"\"\"if book == \"python\":\n",
    "    ............\n",
    "elif book == \"C++\":\n",
    "    ..........\n",
    "elif book == \"java\":\n",
    "    ..........\n",
    "elif book == \"c\":\n",
    "    ...........\n",
    "else:\n",
    "    ..........\"\"\""
   ]
  },
  {
   "cell_type": "code",
   "execution_count": 30,
   "metadata": {},
   "outputs": [
    {
     "name": "stdout",
     "output_type": "stream",
     "text": [
      "out of range\n"
     ]
    }
   ],
   "source": [
    "# score ====> A++, A+, A, B\n",
    "# score >= 18 ===> A++\n",
    "# score < 18 and score >= 15 ===> A+\n",
    "# score < 15 and score >= 10 ===> A\n",
    "# score < 10 =====> B\n",
    "\n",
    "score = float(input(\"your score: \"))\n",
    "if score < 0 or score > 20:\n",
    "    print(\"out of range\")\n",
    "elif score >= 18:\n",
    "    print(\"A++\")\n",
    "elif score >= 15 : # score < 18\n",
    "    print(\"A+\")\n",
    "elif score >= 10:\n",
    "    print(\"A\")\n",
    "else:\n",
    "    print(\"B\")"
   ]
  },
  {
   "cell_type": "code",
   "execution_count": 34,
   "metadata": {},
   "outputs": [
    {
     "name": "stdout",
     "output_type": "stream",
     "text": [
      "out of range\n"
     ]
    }
   ],
   "source": [
    "score = float(input(\"your score: \"))\n",
    "if score < 0 or score > 20:\n",
    "    print(\"out of range\")\n",
    "else:\n",
    "    if score >= 18:\n",
    "        print(\"A++\")\n",
    "    elif score >= 15:\n",
    "        print(\"A+\")\n",
    "    elif score >= 10:\n",
    "        print(\"A\")\n",
    "    else:\n",
    "        print(\"B\")"
   ]
  },
  {
   "cell_type": "code",
   "execution_count": 36,
   "metadata": {},
   "outputs": [
    {
     "name": "stdout",
     "output_type": "stream",
     "text": [
      "no\n"
     ]
    }
   ],
   "source": [
    "num1 = 10\n",
    "num2 = 20\n",
    "if num1 > num2:\n",
    "    pass\n",
    "else:\n",
    "    print(\"no\")"
   ]
  },
  {
   "cell_type": "code",
   "execution_count": 37,
   "metadata": {},
   "outputs": [
    {
     "name": "stdout",
     "output_type": "stream",
     "text": [
      "20\n"
     ]
    }
   ],
   "source": [
    "# num1, num2, num3, num4\n",
    "# output ====> num2\n",
    "num1 = 10\n",
    "num2 = 20\n",
    "num3 = 3\n",
    "num4 = 15\n",
    "if num1 > num2 and num1 > num3 and num1 > num4:\n",
    "    print(num1)\n",
    "elif num2 > num1 and num2 > num3 and num2 > num4:\n",
    "    print(num2)\n",
    "elif num3 > num1 and num3 > num2 and num3 > num4:\n",
    "    print(num3)\n",
    "else:\n",
    "    print(num4)"
   ]
  },
  {
   "cell_type": "code",
   "execution_count": 38,
   "metadata": {},
   "outputs": [
    {
     "name": "stdout",
     "output_type": "stream",
     "text": [
      "30\n"
     ]
    }
   ],
   "source": [
    "# max = 10 \n",
    "# max = 15\n",
    "# 10, 5, 15, 12\n",
    "\n",
    "\n",
    "num1 = 10\n",
    "num2 = 13\n",
    "num3 = 30\n",
    "num4 = 15\n",
    "\n",
    "max = num1    # max = 10\n",
    "if max < num2: # 10 < 13 ===> True\n",
    "    max = num2 # max = 13\n",
    "\n",
    "if max < num3: # 13 < 30 ===> True\n",
    "    max = num3 # max = 30\n",
    "\n",
    "if max < num4: # 30 < 15 ===> False\n",
    "    max = num4 \n",
    "\n",
    "print(max)"
   ]
  },
  {
   "cell_type": "code",
   "execution_count": 43,
   "metadata": {},
   "outputs": [
    {
     "name": "stdout",
     "output_type": "stream",
     "text": [
      "2\n"
     ]
    }
   ],
   "source": [
    "# number \n",
    "## number % 2 == 0 ====> 2\n",
    "## number % 3 == 0 ====> 3\n",
    "## number % 2 == 0 and number % 3 == 0 ===> 6\n",
    "## else =====> number\n",
    "number = int(input(\"your number>>> \"))\n",
    "if number % 6 == 0:\n",
    "    print(6)\n",
    "elif number % 3 == 0:\n",
    "    print(3)\n",
    "elif number % 2 == 0 :\n",
    "    print(2)\n",
    "else:\n",
    "    print(number)"
   ]
  },
  {
   "cell_type": "code",
   "execution_count": null,
   "metadata": {},
   "outputs": [],
   "source": [
    "number = int(input(\"your number>>> \"))\n",
    "if number % 6 == 0:\n",
    "    print(6)\n",
    "if number % 2 == 0 and number % 3 != 0:\n",
    "    print(2)\n",
    "if number % 3 == 0 and number % 2 != 0:\n",
    "    print(3)\n",
    "if number % 2 != 0 and number % 3 != 0:\n",
    "    print(number)"
   ]
  }
 ],
 "metadata": {
  "kernelspec": {
   "display_name": "Python 3 (ipykernel)",
   "language": "python",
   "name": "python3"
  },
  "language_info": {
   "codemirror_mode": {
    "name": "ipython",
    "version": 3
   },
   "file_extension": ".py",
   "mimetype": "text/x-python",
   "name": "python",
   "nbconvert_exporter": "python",
   "pygments_lexer": "ipython3",
   "version": "3.10.6"
  }
 },
 "nbformat": 4,
 "nbformat_minor": 2
}
