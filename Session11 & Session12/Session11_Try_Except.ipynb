{
 "cells": [
  {
   "attachments": {},
   "cell_type": "markdown",
   "metadata": {},
   "source": [
    "### Session_11(Error Handeling)"
   ]
  },
  {
   "attachments": {},
   "cell_type": "markdown",
   "metadata": {},
   "source": [
    "###### https://docs.python.org/3/library/exceptions.html#bltin-exceptions"
   ]
  },
  {
   "cell_type": "code",
   "execution_count": 7,
   "metadata": {},
   "outputs": [
    {
     "name": "stdout",
     "output_type": "stream",
     "text": [
      "30\n",
      "hi\n"
     ]
    }
   ],
   "source": [
    "x = 10\n",
    "y = 20\n",
    "print(x + y)\n",
    "print(\"hi\")"
   ]
  },
  {
   "cell_type": "code",
   "execution_count": 10,
   "metadata": {},
   "outputs": [
    {
     "name": "stdout",
     "output_type": "stream",
     "text": [
      "40\n",
      "10\n"
     ]
    }
   ],
   "source": [
    "num1 = 10\n",
    "num2 = 30\n",
    "print(num1 + num2)\n",
    "#print(num3) # NameError\n",
    "print(10)"
   ]
  },
  {
   "cell_type": "code",
   "execution_count": 12,
   "metadata": {},
   "outputs": [
    {
     "name": "stdout",
     "output_type": "stream",
     "text": [
      "20\n"
     ]
    }
   ],
   "source": [
    "num1 = 20\n",
    "print(num1)\n",
    "#print(num1 / 0) # ZeroDivisionError"
   ]
  },
  {
   "cell_type": "code",
   "execution_count": 17,
   "metadata": {},
   "outputs": [
    {
     "name": "stdout",
     "output_type": "stream",
     "text": [
      "[2, 4]\n"
     ]
    },
    {
     "ename": "IndexError",
     "evalue": "pop index out of range",
     "output_type": "error",
     "traceback": [
      "\u001b[0;31m---------------------------------------------------------------------------\u001b[0m",
      "\u001b[0;31mIndexError\u001b[0m                                Traceback (most recent call last)",
      "Cell \u001b[0;32mIn[17], line 7\u001b[0m\n\u001b[1;32m      5\u001b[0m nums \u001b[39m=\u001b[39m \u001b[39mmap\u001b[39m(\u001b[39mint\u001b[39m, nums)\n\u001b[1;32m      6\u001b[0m \u001b[39mfor\u001b[39;00m i \u001b[39min\u001b[39;00m nums:\n\u001b[0;32m----> 7\u001b[0m     list1\u001b[39m.\u001b[39;49mpop(i)\n\u001b[1;32m      8\u001b[0m     \u001b[39mprint\u001b[39m(list1)\n",
      "\u001b[0;31mIndexError\u001b[0m: pop index out of range"
     ]
    }
   ],
   "source": [
    "list1 = [2, 3, 4]\n",
    "#print(list1[0])\n",
    "#print(list1[6]) # IndexError \n",
    "nums = input().split() # 1 2\n",
    "nums = map(int, nums)\n",
    "for i in nums:\n",
    "    list1.pop(i) \n",
    "    print(list1) # [2, 4]"
   ]
  },
  {
   "cell_type": "code",
   "execution_count": 23,
   "metadata": {},
   "outputs": [
    {
     "data": {
      "text/plain": [
       "'python'"
      ]
     },
     "execution_count": 23,
     "metadata": {},
     "output_type": "execute_result"
    }
   ],
   "source": [
    "dic1 = {\n",
    "    \"name\" : \"python\",\n",
    "    \"year\" : 2007\n",
    "}\n",
    "user = \"name\"\n",
    "dic1[user] # KeyError"
   ]
  },
  {
   "cell_type": "code",
   "execution_count": 39,
   "metadata": {},
   "outputs": [],
   "source": [
    "def div(x, y):\n",
    "    try:\n",
    "        res = x / y\n",
    "        print(res)\n",
    "        print(avg)\n",
    "    except Exception as Ex:\n",
    "        print(Ex.__class__.__name__)"
   ]
  },
  {
   "cell_type": "code",
   "execution_count": 41,
   "metadata": {},
   "outputs": [
    {
     "name": "stdout",
     "output_type": "stream",
     "text": [
      "3.0\n",
      "NameError\n",
      "100\n"
     ]
    }
   ],
   "source": [
    "div(12, 4)\n",
    "print(100)"
   ]
  },
  {
   "cell_type": "code",
   "execution_count": 48,
   "metadata": {},
   "outputs": [
    {
     "name": "stdout",
     "output_type": "stream",
     "text": [
      "error\n",
      "error\n",
      "error\n",
      "error\n",
      "error\n",
      "15\n"
     ]
    }
   ],
   "source": [
    "while True:\n",
    "    try:\n",
    "        new_num = int(input())\n",
    "        break\n",
    "    except:\n",
    "        print(\"error\")\n",
    "print(new_num + 5)"
   ]
  },
  {
   "cell_type": "code",
   "execution_count": 49,
   "metadata": {},
   "outputs": [
    {
     "name": "stdout",
     "output_type": "stream",
     "text": [
      "5\n"
     ]
    }
   ],
   "source": [
    "try:\n",
    "    new_num = int(input())\n",
    "except:\n",
    "    new_num = 0\n",
    "print(new_num + 5)"
   ]
  },
  {
   "cell_type": "code",
   "execution_count": 64,
   "metadata": {},
   "outputs": [],
   "source": [
    "def div(x, y):\n",
    "    try:\n",
    "        res = x / y\n",
    "        print(res)\n",
    "        #print(avg)\n",
    "        list1 = [2, 3]\n",
    "        print(list1[6])\n",
    "    except ZeroDivisionError:\n",
    "        res = x + y\n",
    "        print(res)\n",
    "    except NameError as error:\n",
    "        print(error)\n",
    "    except:\n",
    "        print(\"error\")"
   ]
  },
  {
   "cell_type": "code",
   "execution_count": 65,
   "metadata": {},
   "outputs": [
    {
     "name": "stdout",
     "output_type": "stream",
     "text": [
      "0.5\n",
      "error\n"
     ]
    }
   ],
   "source": [
    "div(2, 4)"
   ]
  },
  {
   "cell_type": "code",
   "execution_count": null,
   "metadata": {},
   "outputs": [],
   "source": [
    "def multi(x, y):\n",
    "    res = x * y\n",
    "    return res"
   ]
  },
  {
   "cell_type": "code",
   "execution_count": 87,
   "metadata": {},
   "outputs": [],
   "source": [
    "def div(x, y):\n",
    "    num = 10\n",
    "    try:\n",
    "        res = x / y\n",
    "        m = multi(3, 4)\n",
    "        ##return num\n",
    "    except ZeroDivisionError as zex:\n",
    "        print(zex)\n",
    "    else:\n",
    "        print(res)\n",
    "        return 2\n",
    "    finally:\n",
    "        x = num\n",
    "        num = 11\n",
    "        print(\"clean\")\n",
    "        return num, x\n"
   ]
  },
  {
   "cell_type": "code",
   "execution_count": 88,
   "metadata": {},
   "outputs": [
    {
     "name": "stdout",
     "output_type": "stream",
     "text": [
      "clean\n"
     ]
    },
    {
     "data": {
      "text/plain": [
       "(11, 10)"
      ]
     },
     "execution_count": 88,
     "metadata": {},
     "output_type": "execute_result"
    }
   ],
   "source": [
    "x = div(2, 2)\n",
    "x"
   ]
  },
  {
   "cell_type": "code",
   "execution_count": 86,
   "metadata": {},
   "outputs": [
    {
     "name": "stdout",
     "output_type": "stream",
     "text": [
      "14\n"
     ]
    }
   ],
   "source": [
    "n1 = 10\n",
    "n2 = 4\n",
    "if n2 == 2:\n",
    "    raise ZeroDivisionError(\"number > 2\")\n",
    "print(n1 + n2)"
   ]
  }
 ],
 "metadata": {
  "kernelspec": {
   "display_name": "Python 3",
   "language": "python",
   "name": "python3"
  },
  "language_info": {
   "codemirror_mode": {
    "name": "ipython",
    "version": 3
   },
   "file_extension": ".py",
   "mimetype": "text/x-python",
   "name": "python",
   "nbconvert_exporter": "python",
   "pygments_lexer": "ipython3",
   "version": "3.11.2"
  },
  "orig_nbformat": 4
 },
 "nbformat": 4,
 "nbformat_minor": 2
}
