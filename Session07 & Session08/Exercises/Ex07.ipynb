{
 "cells": [
  {
   "cell_type": "markdown",
   "metadata": {},
   "source": [
    "#### Q1: Write the product management project (exercise 6) using functions."
   ]
  },
  {
   "cell_type": "code",
   "execution_count": 2,
   "metadata": {},
   "outputs": [],
   "source": [
    "# name of products\n",
    "products = []\n",
    "# price of products\n",
    "prices = []"
   ]
  },
  {
   "cell_type": "code",
   "execution_count": 4,
   "metadata": {},
   "outputs": [],
   "source": [
    "def add(num):\n",
    "    for i in range(num):\n",
    "        name = input(f\"name of product_{i+1}: \")\n",
    "        if name not in products:\n",
    "            price = int(input(f\"price of {name}: \"))\n",
    "            products.append(name)\n",
    "            prices.append(price)\n",
    "        else:\n",
    "            print(f\"{name}: exist!\")"
   ]
  },
  {
   "cell_type": "code",
   "execution_count": 5,
   "metadata": {},
   "outputs": [],
   "source": [
    "def edit(names):\n",
    "    names = names.split()\n",
    "    for name in names:\n",
    "        if name in products:\n",
    "            i = products.index(name)\n",
    "            prices[i] = int(input(f\"new price of {name}: \"))\n",
    "        else:\n",
    "            print(f\"{name}: not found!\")"
   ]
  },
  {
   "cell_type": "code",
   "execution_count": 7,
   "metadata": {},
   "outputs": [],
   "source": [
    "def search(name):\n",
    "    if name in products:\n",
    "        i = products.index(name)\n",
    "        print(f\"{name} ---> {prices[i]}\")\n",
    "    else:\n",
    "        print(f\"{name}: not found!\")"
   ]
  },
  {
   "cell_type": "code",
   "execution_count": 6,
   "metadata": {},
   "outputs": [],
   "source": [
    "def remove():\n",
    "    names = names.split() # [\"p1\", \"p2\", \"p3\"]\n",
    "    for name in names:\n",
    "        if name in products:\n",
    "            i = products.index(name)\n",
    "            products.pop(i)\n",
    "            prices.pop(i)\n",
    "        else:\n",
    "            print(f\"{name}: not found!\")"
   ]
  },
  {
   "cell_type": "code",
   "execution_count": 8,
   "metadata": {},
   "outputs": [],
   "source": [
    "def detail():\n",
    "    l = len(prices)\n",
    "    avg = sum(prices) / l\n",
    "    max1 = max(prices)\n",
    "    min1 = min(prices)\n",
    "    i_max = prices.index(max1)\n",
    "    i_min = prices.index(min1)\n",
    "    max_product = products[i_max]\n",
    "    min_product = products[i_min]\n",
    "    print(f\"number of products: {l}\")\n",
    "    print(f\"avg of prices: {avg}\")\n",
    "    print(f\"max: {max_product} --> {max1}\")\n",
    "    print(f\"min: {min_product} --> {min1}\")"
   ]
  },
  {
   "cell_type": "code",
   "execution_count": 10,
   "metadata": {},
   "outputs": [
    {
     "name": "stdout",
     "output_type": "stream",
     "text": [
      "dfg: command not found!\n"
     ]
    }
   ],
   "source": [
    "\n",
    "while True:\n",
    "    user = input(\"\"\"Please Enter a Option\\\n",
    "    (add/edit/remove/display/search/detail/exit): \"\"\")\n",
    "    if user == \"add\":\n",
    "        num = int(input(\"Please Enter number of Products to add: \"))\n",
    "        add(num)\n",
    "    elif user == \"edit\":\n",
    "        names = input(\"names of products to edit: \")\n",
    "        edit(names)\n",
    "    elif user == \"remove\":\n",
    "        names = input(\"names of products to remove: \")\n",
    "        remove(names)\n",
    "    elif user == \"display\":\n",
    "        for i, product in enumerate(products):\n",
    "            print(f\"product_{i+1}: {product} --> {prices[i]}\")\n",
    "    elif user == \"search\":\n",
    "        name = input(\"name of product to search: \")\n",
    "        search(name)\n",
    "    elif user == \"detail\":\n",
    "        detail()\n",
    "    elif user == \"\":\n",
    "        pass\n",
    "    elif user == \"exit\":\n",
    "        break\n",
    "    else:\n",
    "        print(f\"{user}: command not found!\")"
   ]
  },
  {
   "cell_type": "markdown",
   "metadata": {},
   "source": [
    "#### Q2: Write the question 2 of exercise 5 using functions."
   ]
  },
  {
   "cell_type": "code",
   "execution_count": 12,
   "metadata": {},
   "outputs": [],
   "source": [
    "sum = lambda n1, n2 : n1 + n2\n",
    "minus = lambda n1, n2 : n1 - n2\n",
    "multi = lambda n1, n2 : n1 * n2"
   ]
  },
  {
   "cell_type": "code",
   "execution_count": 13,
   "metadata": {},
   "outputs": [],
   "source": [
    "def div(n1, n2):\n",
    "    if n2 == 0:\n",
    "        return \"ZeroDivisionError\"\n",
    "    else:\n",
    "        res = n1 / n2\n",
    "        return res"
   ]
  },
  {
   "cell_type": "code",
   "execution_count": 14,
   "metadata": {},
   "outputs": [
    {
     "name": "stdout",
     "output_type": "stream",
     "text": [
      "2 + 3 = 5\n"
     ]
    }
   ],
   "source": [
    "word = input(\"Please enter your word: \")\n",
    "words = word.split()\n",
    "num1 = int(words[0])\n",
    "num2 = int(words[2])\n",
    "if words[1] in [\"+\", \"-\", \"/\", \"*\"]:\n",
    "    if words[1] == \"+\":\n",
    "        res = sum(num1 , num2)\n",
    "    elif words[1] == \"-\":\n",
    "        res = minus(num1 , num2)\n",
    "    elif words[1] == \"/\":\n",
    "       res = div(num1, num2)\n",
    "    else:\n",
    "        res = multi(num1, num2)\n",
    "    print(f\"{num1} {words[1]} {num2} = {res}\")\n",
    "else:\n",
    "    print(f\"{words[1]}: not found\")"
   ]
  },
  {
   "cell_type": "markdown",
   "metadata": {},
   "source": [
    "#### Q3. Receive two strings from the user in the following format, then receive one of the +, - and * and perform the requested calculations."
   ]
  },
  {
   "cell_type": "code",
   "execution_count": 17,
   "metadata": {},
   "outputs": [
    {
     "name": "stdout",
     "output_type": "stream",
     "text": [
      "5 7 9\n"
     ]
    }
   ],
   "source": [
    "str1 = input(\"Enter list1: \").split()\n",
    "str2 = input(\"Enter list2: \").split()\n",
    "str3 = input(\"Enter operator: \")\n",
    "list1 = map(int, str1)\n",
    "list2 = map(int, str2)\n",
    "if str3 in [\"+\", \"-\", \"*\"]:\n",
    "    if str3 == \"+\":\n",
    "        list3 = map(sum, list1, list2)\n",
    "    elif str3 == \"-\":\n",
    "        list3 = map(minus, list1, list2)\n",
    "    else:\n",
    "        list3 = map(multi, list1, list2)\n",
    "    print(*list3)\n",
    "else:\n",
    "    print(\"not found!\")"
   ]
  }
 ],
 "metadata": {
  "kernelspec": {
   "display_name": "Python 3 (ipykernel)",
   "language": "python",
   "name": "python3"
  },
  "language_info": {
   "codemirror_mode": {
    "name": "ipython",
    "version": 3
   },
   "file_extension": ".py",
   "mimetype": "text/x-python",
   "name": "python",
   "nbconvert_exporter": "python",
   "pygments_lexer": "ipython3",
   "version": "3.10.6"
  }
 },
 "nbformat": 4,
 "nbformat_minor": 2
}
