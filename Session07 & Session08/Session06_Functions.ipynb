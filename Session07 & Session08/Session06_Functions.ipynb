{
 "cells": [
  {
   "attachments": {},
   "cell_type": "markdown",
   "metadata": {},
   "source": [
    "### Session_07 (Functions)"
   ]
  },
  {
   "cell_type": "code",
   "execution_count": 18,
   "metadata": {},
   "outputs": [
    {
     "name": "stdout",
     "output_type": "stream",
     "text": [
      "15.0\n"
     ]
    }
   ],
   "source": [
    "num1 = 10\n",
    "num2 = 20\n",
    "avg1 = (num1 + num2) / 2\n",
    "print(avg1)"
   ]
  },
  {
   "cell_type": "code",
   "execution_count": 19,
   "metadata": {},
   "outputs": [
    {
     "name": "stdout",
     "output_type": "stream",
     "text": [
      "7.0\n"
     ]
    }
   ],
   "source": [
    "num1 = 12\n",
    "num2 = 2\n",
    "avg2 = (num1 + num2) / 2\n",
    "# built-in\n",
    "print(avg2)"
   ]
  },
  {
   "cell_type": "code",
   "execution_count": 20,
   "metadata": {},
   "outputs": [
    {
     "name": "stdout",
     "output_type": "stream",
     "text": [
      "11.0\n"
     ]
    }
   ],
   "source": [
    "avg3 = (avg1 + avg2) / 2\n",
    "print(avg3)"
   ]
  },
  {
   "cell_type": "code",
   "execution_count": 42,
   "metadata": {},
   "outputs": [],
   "source": [
    "def average(num1,num3 = 0, num2 = 0):\n",
    "    sum1 = num1 + num2 + num3\n",
    "    res = sum1 / 3\n",
    "    return res"
   ]
  },
  {
   "cell_type": "code",
   "execution_count": 45,
   "metadata": {},
   "outputs": [
    {
     "data": {
      "text/plain": [
       "3.3333333333333335"
      ]
     },
     "execution_count": 45,
     "metadata": {},
     "output_type": "execute_result"
    }
   ],
   "source": [
    "x = average(10)\n",
    "x"
   ]
  },
  {
   "cell_type": "code",
   "execution_count": 23,
   "metadata": {},
   "outputs": [
    {
     "name": "stdout",
     "output_type": "stream",
     "text": [
      "25.0 15.0 20.0\n"
     ]
    }
   ],
   "source": [
    "n1 = 20\n",
    "n2 = 30\n",
    "avg1 = average(n1, n2) # avg1 = 25\n",
    "avg2 = average(10, 20) # avg2 = 15\n",
    "avg3 = average(avg1, avg2) # 20\n",
    "print(avg1, avg2, avg3)"
   ]
  },
  {
   "cell_type": "code",
   "execution_count": 29,
   "metadata": {},
   "outputs": [
    {
     "name": "stdout",
     "output_type": "stream",
     "text": [
      "30 15.0\n"
     ]
    }
   ],
   "source": [
    "sum, avg = average(10, 20)\n",
    "print(sum, avg)"
   ]
  },
  {
   "cell_type": "code",
   "execution_count": 30,
   "metadata": {},
   "outputs": [
    {
     "name": "stdout",
     "output_type": "stream",
     "text": [
      "2 None\n"
     ]
    }
   ],
   "source": [
    "list1 = [2, 3, 10]\n",
    "x = list1.pop(0)\n",
    "y = list1.remove(10)\n",
    "print(x, y)"
   ]
  },
  {
   "cell_type": "code",
   "execution_count": 46,
   "metadata": {},
   "outputs": [],
   "source": [
    "def sum_function(a, b):\n",
    "    sum1 = a + b\n",
    "    return sum1"
   ]
  },
  {
   "cell_type": "code",
   "execution_count": 49,
   "metadata": {},
   "outputs": [
    {
     "name": "stdout",
     "output_type": "stream",
     "text": [
      "5\n"
     ]
    }
   ],
   "source": [
    "# lambda\n",
    "x = lambda a, b: a + b\n",
    "res = x(2, 3)\n",
    "print(res)"
   ]
  },
  {
   "cell_type": "code",
   "execution_count": 47,
   "metadata": {},
   "outputs": [
    {
     "name": "stdout",
     "output_type": "stream",
     "text": [
      "30\n"
     ]
    }
   ],
   "source": [
    "x = sum_function(10, 20)\n",
    "print(x)"
   ]
  },
  {
   "cell_type": "code",
   "execution_count": 52,
   "metadata": {},
   "outputs": [
    {
     "name": "stdout",
     "output_type": "stream",
     "text": [
      "[1, 2, 3, 4]\n"
     ]
    }
   ],
   "source": [
    "# int(\"123\"), int(12.4), list()\n",
    "word = \"1 2 3 4\"\n",
    "list1 = word.split()\n",
    "list2 = list(map(int, list1))\n",
    "print(list2)"
   ]
  },
  {
   "cell_type": "code",
   "execution_count": 53,
   "metadata": {},
   "outputs": [
    {
     "name": "stdout",
     "output_type": "stream",
     "text": [
      "[2, 3, 4]\n"
     ]
    }
   ],
   "source": [
    "list1 = [\"2\", \"3\", \"4\"]\n",
    "list2 = [int(i) for i in list1]\n",
    "print(list2)"
   ]
  },
  {
   "cell_type": "code",
   "execution_count": 56,
   "metadata": {},
   "outputs": [
    {
     "name": "stdout",
     "output_type": "stream",
     "text": [
      "[2, 3, 4]\n"
     ]
    }
   ],
   "source": [
    "list3 = map(int, list1)\n",
    "list3 = list(list3)\n",
    "print(list3)"
   ]
  },
  {
   "cell_type": "code",
   "execution_count": 57,
   "metadata": {},
   "outputs": [],
   "source": [
    "def sum1(x):\n",
    "    res = x + 2\n",
    "    return res"
   ]
  },
  {
   "cell_type": "code",
   "execution_count": 58,
   "metadata": {},
   "outputs": [
    {
     "name": "stdout",
     "output_type": "stream",
     "text": [
      "6\n"
     ]
    }
   ],
   "source": [
    "y = sum1(4)\n",
    "print(y)"
   ]
  },
  {
   "cell_type": "code",
   "execution_count": 62,
   "metadata": {},
   "outputs": [],
   "source": [
    "sum2 = lambda x: x + 2"
   ]
  },
  {
   "cell_type": "code",
   "execution_count": 63,
   "metadata": {},
   "outputs": [
    {
     "name": "stdout",
     "output_type": "stream",
     "text": [
      "[4, 5, 6]\n"
     ]
    }
   ],
   "source": [
    "list1 = [2, 3, 4]\n",
    "list3 = list(map(sum2, list1))\n",
    "print(list3)"
   ]
  },
  {
   "attachments": {},
   "cell_type": "markdown",
   "metadata": {},
   "source": [
    "#### Examples"
   ]
  },
  {
   "cell_type": "code",
   "execution_count": 66,
   "metadata": {},
   "outputs": [],
   "source": [
    "def sum_lists(nums1, nums2):\n",
    "    list3 = []\n",
    "    for i, v in enumerate(nums1): # i = 0, i = 1, i = 2, i = 3\n",
    "        list3.append(v + nums2[i] )\n",
    "    return list3\n"
   ]
  },
  {
   "cell_type": "code",
   "execution_count": 71,
   "metadata": {},
   "outputs": [],
   "source": [
    "sum_list = lambda a, b: a + b\n",
    "multi_list = lambda a, b: a * b"
   ]
  },
  {
   "cell_type": "code",
   "execution_count": 73,
   "metadata": {},
   "outputs": [
    {
     "name": "stdout",
     "output_type": "stream",
     "text": [
      "[5, 22, 15]\n",
      "[6, 72, 50]\n"
     ]
    }
   ],
   "source": [
    "list1 = [3, 4, 5, 10]\n",
    "list2 = [2, 18, 10]\n",
    "list3 = list(map(sum_list, list1, list2))\n",
    "print(list3)\n",
    "list4 = list(map(multi_list, list1, list2))\n",
    "print(list4)\n"
   ]
  },
  {
   "cell_type": "code",
   "execution_count": 74,
   "metadata": {},
   "outputs": [
    {
     "ename": "IndexError",
     "evalue": "list index out of range",
     "output_type": "error",
     "traceback": [
      "\u001b[0;31m---------------------------------------------------------------------------\u001b[0m",
      "\u001b[0;31mIndexError\u001b[0m                                Traceback (most recent call last)",
      "Cell \u001b[0;32mIn[74], line 3\u001b[0m\n\u001b[1;32m      1\u001b[0m list1 \u001b[39m=\u001b[39m [\u001b[39m3\u001b[39m, \u001b[39m4\u001b[39m, \u001b[39m5\u001b[39m, \u001b[39m10\u001b[39m]\n\u001b[1;32m      2\u001b[0m list2 \u001b[39m=\u001b[39m [\u001b[39m2\u001b[39m, \u001b[39m18\u001b[39m, \u001b[39m10\u001b[39m]\n\u001b[0;32m----> 3\u001b[0m list3 \u001b[39m=\u001b[39m sum_lists(list1, list2)\n\u001b[1;32m      4\u001b[0m \u001b[39mprint\u001b[39m(list3)\n",
      "Cell \u001b[0;32mIn[66], line 4\u001b[0m, in \u001b[0;36msum_lists\u001b[0;34m(nums1, nums2)\u001b[0m\n\u001b[1;32m      2\u001b[0m list3 \u001b[39m=\u001b[39m []\n\u001b[1;32m      3\u001b[0m \u001b[39mfor\u001b[39;00m i, v \u001b[39min\u001b[39;00m \u001b[39menumerate\u001b[39m(nums1):\n\u001b[0;32m----> 4\u001b[0m     list3\u001b[39m.\u001b[39mappend(v \u001b[39m+\u001b[39m nums2[i] )\n\u001b[1;32m      5\u001b[0m \u001b[39mreturn\u001b[39;00m list3\n",
      "\u001b[0;31mIndexError\u001b[0m: list index out of range"
     ]
    }
   ],
   "source": [
    "list1 = [3, 4, 5, 10]\n",
    "list2 = [2, 18, 10]\n",
    "list3 = sum_lists(list1, list2)\n",
    "print(list3)"
   ]
  },
  {
   "cell_type": "code",
   "execution_count": null,
   "metadata": {},
   "outputs": [],
   "source": []
  }
 ],
 "metadata": {
  "kernelspec": {
   "display_name": "Python 3",
   "language": "python",
   "name": "python3"
  },
  "language_info": {
   "codemirror_mode": {
    "name": "ipython",
    "version": 3
   },
   "file_extension": ".py",
   "mimetype": "text/x-python",
   "name": "python",
   "nbconvert_exporter": "python",
   "pygments_lexer": "ipython3",
   "version": "3.11.2"
  },
  "orig_nbformat": 4
 },
 "nbformat": 4,
 "nbformat_minor": 2
}
